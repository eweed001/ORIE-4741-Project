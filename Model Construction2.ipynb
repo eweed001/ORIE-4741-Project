{
 "cells": [
  {
   "cell_type": "code",
   "execution_count": 97,
   "metadata": {},
   "outputs": [],
   "source": [
    "#Importing packages\n",
    "import pandas as pd\n",
    "pd.set_option('display.max_columns', 100)\n",
    "import numpy as np\n",
    "import seaborn as sns\n",
    "import matplotlib.pyplot as plt\n",
    "from sklearn.linear_model import LinearRegression\n",
    "from sklearn.metrics import mean_squared_error\n",
    "from sklearn.model_selection import train_test_split\n",
    "from sklearn.metrics import accuracy_score\n",
    "from sklearn.model_selection import cross_validate\n",
    "from sklearn.model_selection import cross_val_predict\n",
    "import math"
   ]
  },
  {
   "cell_type": "code",
   "execution_count": 98,
   "metadata": {},
   "outputs": [],
   "source": [
    "# Reading in data we cleaned\n",
    "df = pd.read_csv('data/exported_data.csv')"
   ]
  },
  {
   "cell_type": "code",
   "execution_count": 99,
   "metadata": {},
   "outputs": [
    {
     "data": {
      "text/html": [
       "<div>\n",
       "<style scoped>\n",
       "    .dataframe tbody tr th:only-of-type {\n",
       "        vertical-align: middle;\n",
       "    }\n",
       "\n",
       "    .dataframe tbody tr th {\n",
       "        vertical-align: top;\n",
       "    }\n",
       "\n",
       "    .dataframe thead th {\n",
       "        text-align: right;\n",
       "    }\n",
       "</style>\n",
       "<table border=\"1\" class=\"dataframe\">\n",
       "  <thead>\n",
       "    <tr style=\"text-align: right;\">\n",
       "      <th></th>\n",
       "      <th>Democrats 2016</th>\n",
       "      <th>Republicans 2016</th>\n",
       "      <th>Democrats 2012</th>\n",
       "      <th>Republicans 2012</th>\n",
       "      <th>State</th>\n",
       "      <th>County</th>\n",
       "      <th>Fips</th>\n",
       "      <th>Less Than High School Diploma</th>\n",
       "      <th>At Least High School Diploma</th>\n",
       "      <th>White (Not Latino) Population</th>\n",
       "      <th>Asian American Population</th>\n",
       "      <th>African American Population</th>\n",
       "      <th>Construction.extraction.maintenance.and.repair.occupations</th>\n",
       "      <th>Average Unemployment % 2016</th>\n",
       "      <th>Poverty Percent, All Ages</th>\n",
       "      <th>realGDP2016</th>\n",
       "      <th>At Least Bachelors's Degree</th>\n",
       "      <th>Graduate Degree</th>\n",
       "      <th>1824tot_per</th>\n",
       "      <th>1824M_per</th>\n",
       "      <th>1824F_per</th>\n",
       "      <th>2544tot_per</th>\n",
       "      <th>2544M_per</th>\n",
       "      <th>2544F_per</th>\n",
       "      <th>4564tot_per</th>\n",
       "      <th>4564M_per</th>\n",
       "      <th>4564F_per</th>\n",
       "      <th>65tot_per</th>\n",
       "      <th>65M_per</th>\n",
       "      <th>65F_per</th>\n",
       "    </tr>\n",
       "  </thead>\n",
       "  <tbody>\n",
       "    <tr>\n",
       "      <th>0</th>\n",
       "      <td>33.264033</td>\n",
       "      <td>62.176022</td>\n",
       "      <td>45.084746</td>\n",
       "      <td>53.587571</td>\n",
       "      <td>Michigan</td>\n",
       "      <td>Presque Isle County, Michigan</td>\n",
       "      <td>26141</td>\n",
       "      <td>14.7</td>\n",
       "      <td>85.3</td>\n",
       "      <td>97.05</td>\n",
       "      <td>0.2</td>\n",
       "      <td>0.30</td>\n",
       "      <td>13.85</td>\n",
       "      <td>9.6</td>\n",
       "      <td>14.7</td>\n",
       "      <td>393475</td>\n",
       "      <td>14.3</td>\n",
       "      <td>4.7</td>\n",
       "      <td>0.070504</td>\n",
       "      <td>0.037034</td>\n",
       "      <td>0.033471</td>\n",
       "      <td>0.193137</td>\n",
       "      <td>0.097412</td>\n",
       "      <td>0.095725</td>\n",
       "      <td>0.376055</td>\n",
       "      <td>0.185824</td>\n",
       "      <td>0.190231</td>\n",
       "      <td>0.360304</td>\n",
       "      <td>0.178417</td>\n",
       "      <td>0.181886</td>\n",
       "    </tr>\n",
       "    <tr>\n",
       "      <th>1</th>\n",
       "      <td>41.088014</td>\n",
       "      <td>53.565475</td>\n",
       "      <td>50.177448</td>\n",
       "      <td>48.576131</td>\n",
       "      <td>Michigan</td>\n",
       "      <td>Calhoun County, Michigan</td>\n",
       "      <td>26025</td>\n",
       "      <td>12.9</td>\n",
       "      <td>87.1</td>\n",
       "      <td>80.65</td>\n",
       "      <td>1.6</td>\n",
       "      <td>10.45</td>\n",
       "      <td>8.35</td>\n",
       "      <td>4.8</td>\n",
       "      <td>16.8</td>\n",
       "      <td>5594998</td>\n",
       "      <td>18.8</td>\n",
       "      <td>6.5</td>\n",
       "      <td>0.118989</td>\n",
       "      <td>0.061094</td>\n",
       "      <td>0.057895</td>\n",
       "      <td>0.308407</td>\n",
       "      <td>0.151431</td>\n",
       "      <td>0.156975</td>\n",
       "      <td>0.352965</td>\n",
       "      <td>0.173308</td>\n",
       "      <td>0.179657</td>\n",
       "      <td>0.219640</td>\n",
       "      <td>0.096424</td>\n",
       "      <td>0.123215</td>\n",
       "    </tr>\n",
       "    <tr>\n",
       "      <th>2</th>\n",
       "      <td>28.744694</td>\n",
       "      <td>66.858702</td>\n",
       "      <td>40.316090</td>\n",
       "      <td>58.523357</td>\n",
       "      <td>Michigan</td>\n",
       "      <td>Branch County, Michigan</td>\n",
       "      <td>26023</td>\n",
       "      <td>13.4</td>\n",
       "      <td>86.6</td>\n",
       "      <td>90.35</td>\n",
       "      <td>0.6</td>\n",
       "      <td>3.05</td>\n",
       "      <td>8.05</td>\n",
       "      <td>4.8</td>\n",
       "      <td>16.8</td>\n",
       "      <td>1245185</td>\n",
       "      <td>14.1</td>\n",
       "      <td>4.8</td>\n",
       "      <td>0.101433</td>\n",
       "      <td>0.054194</td>\n",
       "      <td>0.047239</td>\n",
       "      <td>0.309689</td>\n",
       "      <td>0.170651</td>\n",
       "      <td>0.139038</td>\n",
       "      <td>0.362648</td>\n",
       "      <td>0.189468</td>\n",
       "      <td>0.173180</td>\n",
       "      <td>0.226230</td>\n",
       "      <td>0.103059</td>\n",
       "      <td>0.123171</td>\n",
       "    </tr>\n",
       "    <tr>\n",
       "      <th>3</th>\n",
       "      <td>36.855246</td>\n",
       "      <td>56.491599</td>\n",
       "      <td>51.061492</td>\n",
       "      <td>47.394519</td>\n",
       "      <td>Michigan</td>\n",
       "      <td>Shiawassee County, Michigan</td>\n",
       "      <td>26155</td>\n",
       "      <td>10.7</td>\n",
       "      <td>89.3</td>\n",
       "      <td>95.45</td>\n",
       "      <td>0.3</td>\n",
       "      <td>0.45</td>\n",
       "      <td>12.05</td>\n",
       "      <td>5.3</td>\n",
       "      <td>12.0</td>\n",
       "      <td>1602095</td>\n",
       "      <td>14.9</td>\n",
       "      <td>5.6</td>\n",
       "      <td>0.110296</td>\n",
       "      <td>0.057764</td>\n",
       "      <td>0.052533</td>\n",
       "      <td>0.289581</td>\n",
       "      <td>0.146615</td>\n",
       "      <td>0.142966</td>\n",
       "      <td>0.379568</td>\n",
       "      <td>0.186526</td>\n",
       "      <td>0.193042</td>\n",
       "      <td>0.220555</td>\n",
       "      <td>0.099090</td>\n",
       "      <td>0.121465</td>\n",
       "    </tr>\n",
       "    <tr>\n",
       "      <th>4</th>\n",
       "      <td>34.247700</td>\n",
       "      <td>61.432326</td>\n",
       "      <td>43.482538</td>\n",
       "      <td>55.697655</td>\n",
       "      <td>Michigan</td>\n",
       "      <td>Mackinac County, Michigan</td>\n",
       "      <td>26097</td>\n",
       "      <td>10.9</td>\n",
       "      <td>89.1</td>\n",
       "      <td>76.80</td>\n",
       "      <td>0.6</td>\n",
       "      <td>1.65</td>\n",
       "      <td>13.85</td>\n",
       "      <td>9.9</td>\n",
       "      <td>13.7</td>\n",
       "      <td>616120</td>\n",
       "      <td>20.1</td>\n",
       "      <td>7.6</td>\n",
       "      <td>0.078798</td>\n",
       "      <td>0.043072</td>\n",
       "      <td>0.035726</td>\n",
       "      <td>0.220924</td>\n",
       "      <td>0.114079</td>\n",
       "      <td>0.106845</td>\n",
       "      <td>0.384307</td>\n",
       "      <td>0.193322</td>\n",
       "      <td>0.190985</td>\n",
       "      <td>0.315971</td>\n",
       "      <td>0.155036</td>\n",
       "      <td>0.160935</td>\n",
       "    </tr>\n",
       "  </tbody>\n",
       "</table>\n",
       "</div>"
      ],
      "text/plain": [
       "   Democrats 2016  Republicans 2016  Democrats 2012  Republicans 2012  \\\n",
       "0       33.264033         62.176022       45.084746         53.587571   \n",
       "1       41.088014         53.565475       50.177448         48.576131   \n",
       "2       28.744694         66.858702       40.316090         58.523357   \n",
       "3       36.855246         56.491599       51.061492         47.394519   \n",
       "4       34.247700         61.432326       43.482538         55.697655   \n",
       "\n",
       "      State                         County   Fips  \\\n",
       "0  Michigan  Presque Isle County, Michigan  26141   \n",
       "1  Michigan       Calhoun County, Michigan  26025   \n",
       "2  Michigan        Branch County, Michigan  26023   \n",
       "3  Michigan    Shiawassee County, Michigan  26155   \n",
       "4  Michigan      Mackinac County, Michigan  26097   \n",
       "\n",
       "   Less Than High School Diploma  At Least High School Diploma  \\\n",
       "0                           14.7                          85.3   \n",
       "1                           12.9                          87.1   \n",
       "2                           13.4                          86.6   \n",
       "3                           10.7                          89.3   \n",
       "4                           10.9                          89.1   \n",
       "\n",
       "   White (Not Latino) Population  Asian American Population  \\\n",
       "0                          97.05                        0.2   \n",
       "1                          80.65                        1.6   \n",
       "2                          90.35                        0.6   \n",
       "3                          95.45                        0.3   \n",
       "4                          76.80                        0.6   \n",
       "\n",
       "   African American Population  \\\n",
       "0                         0.30   \n",
       "1                        10.45   \n",
       "2                         3.05   \n",
       "3                         0.45   \n",
       "4                         1.65   \n",
       "\n",
       "   Construction.extraction.maintenance.and.repair.occupations  \\\n",
       "0                                              13.85            \n",
       "1                                               8.35            \n",
       "2                                               8.05            \n",
       "3                                              12.05            \n",
       "4                                              13.85            \n",
       "\n",
       "   Average Unemployment % 2016  Poverty Percent, All Ages  realGDP2016  \\\n",
       "0                          9.6                       14.7       393475   \n",
       "1                          4.8                       16.8      5594998   \n",
       "2                          4.8                       16.8      1245185   \n",
       "3                          5.3                       12.0      1602095   \n",
       "4                          9.9                       13.7       616120   \n",
       "\n",
       "   At Least Bachelors's Degree  Graduate Degree  1824tot_per  1824M_per  \\\n",
       "0                         14.3              4.7     0.070504   0.037034   \n",
       "1                         18.8              6.5     0.118989   0.061094   \n",
       "2                         14.1              4.8     0.101433   0.054194   \n",
       "3                         14.9              5.6     0.110296   0.057764   \n",
       "4                         20.1              7.6     0.078798   0.043072   \n",
       "\n",
       "   1824F_per  2544tot_per  2544M_per  2544F_per  4564tot_per  4564M_per  \\\n",
       "0   0.033471     0.193137   0.097412   0.095725     0.376055   0.185824   \n",
       "1   0.057895     0.308407   0.151431   0.156975     0.352965   0.173308   \n",
       "2   0.047239     0.309689   0.170651   0.139038     0.362648   0.189468   \n",
       "3   0.052533     0.289581   0.146615   0.142966     0.379568   0.186526   \n",
       "4   0.035726     0.220924   0.114079   0.106845     0.384307   0.193322   \n",
       "\n",
       "   4564F_per  65tot_per   65M_per   65F_per  \n",
       "0   0.190231   0.360304  0.178417  0.181886  \n",
       "1   0.179657   0.219640  0.096424  0.123215  \n",
       "2   0.173180   0.226230  0.103059  0.123171  \n",
       "3   0.193042   0.220555  0.099090  0.121465  \n",
       "4   0.190985   0.315971  0.155036  0.160935  "
      ]
     },
     "execution_count": 99,
     "metadata": {},
     "output_type": "execute_result"
    }
   ],
   "source": [
    "df.head()"
   ]
  },
  {
   "cell_type": "code",
   "execution_count": 100,
   "metadata": {},
   "outputs": [],
   "source": [
    "# Renaming columns so they are more general - can apply to our 2020 data when\n",
    "# we run the models on it\n",
    "df = df.rename(columns = {'Democrats 2016':'Democrats Target Year', 'Republicans 2016':'Republicans Target Year',\n",
    "                         'Democrats 2012':'Democrats Previous Year', 'Republicans 2012':'Republicans Previous Year',\n",
    "                         'Average Unemployment % 2016':'Average Unemployment %'})\n"
   ]
  },
  {
   "cell_type": "code",
   "execution_count": 101,
   "metadata": {},
   "outputs": [
    {
     "data": {
      "image/png": "[encoded data removed]",
      "text/plain": [
       "<Figure size 432x288 with 1 Axes>"
      ]
     },
     "metadata": {
      "needs_background": "light"
     },
     "output_type": "display_data"
    }
   ],
   "source": [
    "# Looking at some plots of features against our target\n",
    "fig, ax = plt.subplots()\n",
    "plt.scatter(df['Democrats Target Year'], df['African American Population'])\n",
    "ax.set_xlabel(\"Democrats 2016\")\n",
    "ax.set_ylabel(\"African American Population\")\n",
    "plt.show()"
   ]
  },
  {
   "cell_type": "code",
   "execution_count": 102,
   "metadata": {},
   "outputs": [
    {
     "data": {
      "image/png": "[encoded data removed]",
      "text/plain": [
       "<Figure size 432x288 with 1 Axes>"
      ]
     },
     "metadata": {
      "needs_background": "light"
     },
     "output_type": "display_data"
    }
   ],
   "source": [
    "fig, ax = plt.subplots()\n",
    "plt.scatter(df['Republicans Target Year'], df['African American Population'])\n",
    "ax.set_xlabel(\"Republicans 2016\")\n",
    "ax.set_ylabel(\"African American Population\")\n",
    "plt.show()"
   ]
  },
  {
   "cell_type": "code",
   "execution_count": 103,
   "metadata": {},
   "outputs": [
    {
     "data": {
      "image/png": "[encoded data removed]",
      "text/plain": [
       "<Figure size 432x288 with 1 Axes>"
      ]
     },
     "metadata": {
      "needs_background": "light"
     },
     "output_type": "display_data"
    }
   ],
   "source": [
    "fig, ax = plt.subplots()\n",
    "plt.scatter(df['Democrats Target Year'], df['realGDP2016'])\n",
    "ax.set_xlabel(\"Democrats 2016\")\n",
    "ax.set_ylabel(\"realGDP2016\")\n",
    "plt.show()"
   ]
  },
  {
   "cell_type": "code",
   "execution_count": 104,
   "metadata": {},
   "outputs": [],
   "source": [
    "# tranforms gdp so its more linear\n",
    "df['log_gdp'] = np.log10(df['realGDP2016'])"
   ]
  },
  {
   "cell_type": "code",
   "execution_count": 105,
   "metadata": {},
   "outputs": [
    {
     "data": {
      "image/png": "[encoded data removed]",
      "text/plain": [
       "<Figure size 432x288 with 1 Axes>"
      ]
     },
     "metadata": {
      "needs_background": "light"
     },
     "output_type": "display_data"
    }
   ],
   "source": [
    "fig, ax = plt.subplots()\n",
    "plt.scatter(df['Democrats Target Year'], df['log_gdp'])\n",
    "ax.set_xlabel(\"Democrats 2016\")\n",
    "ax.set_ylabel(\"log realGDP2016\")\n",
    "plt.show()"
   ]
  },
  {
   "cell_type": "code",
   "execution_count": 106,
   "metadata": {
    "scrolled": false
   },
   "outputs": [
    {
     "data": {
      "text/plain": [
       "<seaborn.axisgrid.PairGrid at 0x7fdf4daf7130>"
      ]
     },
     "execution_count": 106,
     "metadata": {},
     "output_type": "execute_result"
    },
    {
     "data": {
      "image/png": "[encoded data removed]",
      "text/plain": [
       "<Figure size 180x1800 with 10 Axes>"
      ]
     },
     "metadata": {
      "needs_background": "light"
     },
     "output_type": "display_data"
    }
   ],
   "source": [
    "sns.pairplot(data=df,\n",
    "                  x_vars=['Democrats Target Year'],\n",
    "                  y_vars=['Less Than High School Diploma', 'At Least High School Diploma', \n",
    "                          'Asian American Population','African American Population',\n",
    "                          'Construction.extraction.maintenance.and.repair.occupations',\n",
    "                         'Average Unemployment %','Poverty Percent, All Ages', 'log_gdp', \n",
    "                          \"At Least Bachelors's Degree\", \n",
    "                         'Graduate Degree'])"
   ]
  },
  {
   "cell_type": "code",
   "execution_count": 107,
   "metadata": {
    "scrolled": false
   },
   "outputs": [
    {
     "data": {
      "text/plain": [
       "<seaborn.axisgrid.PairGrid at 0x7fdf34173610>"
      ]
     },
     "execution_count": 107,
     "metadata": {},
     "output_type": "execute_result"
    },
    {
     "data": {
      "image/png": "[encoded data removed]",
      "text/plain": [
       "<Figure size 180x1800 with 10 Axes>"
      ]
     },
     "metadata": {
      "needs_background": "light"
     },
     "output_type": "display_data"
    }
   ],
   "source": [
    "sns.pairplot(data=df,\n",
    "                  x_vars=['Republicans Target Year'],\n",
    "                  y_vars=['Less Than High School Diploma', 'At Least High School Diploma', \n",
    "                          'Asian American Population','African American Population',\n",
    "                          'Construction.extraction.maintenance.and.repair.occupations',\n",
    "                         'Average Unemployment %','Poverty Percent, All Ages', 'log_gdp',\n",
    "                          \"At Least Bachelors's Degree\" , 'Graduate Degree'])"
   ]
  },
  {
   "cell_type": "code",
   "execution_count": 108,
   "metadata": {},
   "outputs": [
    {
     "data": {
      "text/html": [
       "<div>\n",
       "<style scoped>\n",
       "    .dataframe tbody tr th:only-of-type {\n",
       "        vertical-align: middle;\n",
       "    }\n",
       "\n",
       "    .dataframe tbody tr th {\n",
       "        vertical-align: top;\n",
       "    }\n",
       "\n",
       "    .dataframe thead th {\n",
       "        text-align: right;\n",
       "    }\n",
       "</style>\n",
       "<table border=\"1\" class=\"dataframe\">\n",
       "  <thead>\n",
       "    <tr style=\"text-align: right;\">\n",
       "      <th></th>\n",
       "      <th>Democrats Target Year</th>\n",
       "      <th>Republicans Target Year</th>\n",
       "      <th>Democrats Previous Year</th>\n",
       "      <th>Republicans Previous Year</th>\n",
       "      <th>State</th>\n",
       "      <th>County</th>\n",
       "      <th>Fips</th>\n",
       "      <th>Less Than High School Diploma</th>\n",
       "      <th>At Least High School Diploma</th>\n",
       "      <th>White (Not Latino) Population</th>\n",
       "      <th>Asian American Population</th>\n",
       "      <th>African American Population</th>\n",
       "      <th>Construction.extraction.maintenance.and.repair.occupations</th>\n",
       "      <th>Average Unemployment %</th>\n",
       "      <th>Poverty Percent, All Ages</th>\n",
       "      <th>realGDP2016</th>\n",
       "      <th>At Least Bachelors's Degree</th>\n",
       "      <th>Graduate Degree</th>\n",
       "      <th>1824tot_per</th>\n",
       "      <th>1824M_per</th>\n",
       "      <th>1824F_per</th>\n",
       "      <th>2544tot_per</th>\n",
       "      <th>2544M_per</th>\n",
       "      <th>2544F_per</th>\n",
       "      <th>4564tot_per</th>\n",
       "      <th>4564M_per</th>\n",
       "      <th>4564F_per</th>\n",
       "      <th>65tot_per</th>\n",
       "      <th>65M_per</th>\n",
       "      <th>65F_per</th>\n",
       "      <th>log_gdp</th>\n",
       "    </tr>\n",
       "  </thead>\n",
       "  <tbody>\n",
       "    <tr>\n",
       "      <th>0</th>\n",
       "      <td>33.264033</td>\n",
       "      <td>62.176022</td>\n",
       "      <td>45.084746</td>\n",
       "      <td>53.587571</td>\n",
       "      <td>Michigan</td>\n",
       "      <td>Presque Isle County, Michigan</td>\n",
       "      <td>26141</td>\n",
       "      <td>14.7</td>\n",
       "      <td>85.3</td>\n",
       "      <td>97.05</td>\n",
       "      <td>0.2</td>\n",
       "      <td>0.30</td>\n",
       "      <td>13.85</td>\n",
       "      <td>9.6</td>\n",
       "      <td>14.7</td>\n",
       "      <td>393475</td>\n",
       "      <td>14.3</td>\n",
       "      <td>4.7</td>\n",
       "      <td>0.070504</td>\n",
       "      <td>0.037034</td>\n",
       "      <td>0.033471</td>\n",
       "      <td>0.193137</td>\n",
       "      <td>0.097412</td>\n",
       "      <td>0.095725</td>\n",
       "      <td>0.376055</td>\n",
       "      <td>0.185824</td>\n",
       "      <td>0.190231</td>\n",
       "      <td>0.360304</td>\n",
       "      <td>0.178417</td>\n",
       "      <td>0.181886</td>\n",
       "      <td>5.594917</td>\n",
       "    </tr>\n",
       "    <tr>\n",
       "      <th>1</th>\n",
       "      <td>41.088014</td>\n",
       "      <td>53.565475</td>\n",
       "      <td>50.177448</td>\n",
       "      <td>48.576131</td>\n",
       "      <td>Michigan</td>\n",
       "      <td>Calhoun County, Michigan</td>\n",
       "      <td>26025</td>\n",
       "      <td>12.9</td>\n",
       "      <td>87.1</td>\n",
       "      <td>80.65</td>\n",
       "      <td>1.6</td>\n",
       "      <td>10.45</td>\n",
       "      <td>8.35</td>\n",
       "      <td>4.8</td>\n",
       "      <td>16.8</td>\n",
       "      <td>5594998</td>\n",
       "      <td>18.8</td>\n",
       "      <td>6.5</td>\n",
       "      <td>0.118989</td>\n",
       "      <td>0.061094</td>\n",
       "      <td>0.057895</td>\n",
       "      <td>0.308407</td>\n",
       "      <td>0.151431</td>\n",
       "      <td>0.156975</td>\n",
       "      <td>0.352965</td>\n",
       "      <td>0.173308</td>\n",
       "      <td>0.179657</td>\n",
       "      <td>0.219640</td>\n",
       "      <td>0.096424</td>\n",
       "      <td>0.123215</td>\n",
       "      <td>6.747800</td>\n",
       "    </tr>\n",
       "    <tr>\n",
       "      <th>2</th>\n",
       "      <td>28.744694</td>\n",
       "      <td>66.858702</td>\n",
       "      <td>40.316090</td>\n",
       "      <td>58.523357</td>\n",
       "      <td>Michigan</td>\n",
       "      <td>Branch County, Michigan</td>\n",
       "      <td>26023</td>\n",
       "      <td>13.4</td>\n",
       "      <td>86.6</td>\n",
       "      <td>90.35</td>\n",
       "      <td>0.6</td>\n",
       "      <td>3.05</td>\n",
       "      <td>8.05</td>\n",
       "      <td>4.8</td>\n",
       "      <td>16.8</td>\n",
       "      <td>1245185</td>\n",
       "      <td>14.1</td>\n",
       "      <td>4.8</td>\n",
       "      <td>0.101433</td>\n",
       "      <td>0.054194</td>\n",
       "      <td>0.047239</td>\n",
       "      <td>0.309689</td>\n",
       "      <td>0.170651</td>\n",
       "      <td>0.139038</td>\n",
       "      <td>0.362648</td>\n",
       "      <td>0.189468</td>\n",
       "      <td>0.173180</td>\n",
       "      <td>0.226230</td>\n",
       "      <td>0.103059</td>\n",
       "      <td>0.123171</td>\n",
       "      <td>6.095234</td>\n",
       "    </tr>\n",
       "    <tr>\n",
       "      <th>3</th>\n",
       "      <td>36.855246</td>\n",
       "      <td>56.491599</td>\n",
       "      <td>51.061492</td>\n",
       "      <td>47.394519</td>\n",
       "      <td>Michigan</td>\n",
       "      <td>Shiawassee County, Michigan</td>\n",
       "      <td>26155</td>\n",
       "      <td>10.7</td>\n",
       "      <td>89.3</td>\n",
       "      <td>95.45</td>\n",
       "      <td>0.3</td>\n",
       "      <td>0.45</td>\n",
       "      <td>12.05</td>\n",
       "      <td>5.3</td>\n",
       "      <td>12.0</td>\n",
       "      <td>1602095</td>\n",
       "      <td>14.9</td>\n",
       "      <td>5.6</td>\n",
       "      <td>0.110296</td>\n",
       "      <td>0.057764</td>\n",
       "      <td>0.052533</td>\n",
       "      <td>0.289581</td>\n",
       "      <td>0.146615</td>\n",
       "      <td>0.142966</td>\n",
       "      <td>0.379568</td>\n",
       "      <td>0.186526</td>\n",
       "      <td>0.193042</td>\n",
       "      <td>0.220555</td>\n",
       "      <td>0.099090</td>\n",
       "      <td>0.121465</td>\n",
       "      <td>6.204688</td>\n",
       "    </tr>\n",
       "    <tr>\n",
       "      <th>4</th>\n",
       "      <td>34.247700</td>\n",
       "      <td>61.432326</td>\n",
       "      <td>43.482538</td>\n",
       "      <td>55.697655</td>\n",
       "      <td>Michigan</td>\n",
       "      <td>Mackinac County, Michigan</td>\n",
       "      <td>26097</td>\n",
       "      <td>10.9</td>\n",
       "      <td>89.1</td>\n",
       "      <td>76.80</td>\n",
       "      <td>0.6</td>\n",
       "      <td>1.65</td>\n",
       "      <td>13.85</td>\n",
       "      <td>9.9</td>\n",
       "      <td>13.7</td>\n",
       "      <td>616120</td>\n",
       "      <td>20.1</td>\n",
       "      <td>7.6</td>\n",
       "      <td>0.078798</td>\n",
       "      <td>0.043072</td>\n",
       "      <td>0.035726</td>\n",
       "      <td>0.220924</td>\n",
       "      <td>0.114079</td>\n",
       "      <td>0.106845</td>\n",
       "      <td>0.384307</td>\n",
       "      <td>0.193322</td>\n",
       "      <td>0.190985</td>\n",
       "      <td>0.315971</td>\n",
       "      <td>0.155036</td>\n",
       "      <td>0.160935</td>\n",
       "      <td>5.789665</td>\n",
       "    </tr>\n",
       "  </tbody>\n",
       "</table>\n",
       "</div>"
      ],
      "text/plain": [
       "   Democrats Target Year  Republicans Target Year  Democrats Previous Year  \\\n",
       "0              33.264033                62.176022                45.084746   \n",
       "1              41.088014                53.565475                50.177448   \n",
       "2              28.744694                66.858702                40.316090   \n",
       "3              36.855246                56.491599                51.061492   \n",
       "4              34.247700                61.432326                43.482538   \n",
       "\n",
       "   Republicans Previous Year     State                         County   Fips  \\\n",
       "0                  53.587571  Michigan  Presque Isle County, Michigan  26141   \n",
       "1                  48.576131  Michigan       Calhoun County, Michigan  26025   \n",
       "2                  58.523357  Michigan        Branch County, Michigan  26023   \n",
       "3                  47.394519  Michigan    Shiawassee County, Michigan  26155   \n",
       "4                  55.697655  Michigan      Mackinac County, Michigan  26097   \n",
       "\n",
       "   Less Than High School Diploma  At Least High School Diploma  \\\n",
       "0                           14.7                          85.3   \n",
       "1                           12.9                          87.1   \n",
       "2                           13.4                          86.6   \n",
       "3                           10.7                          89.3   \n",
       "4                           10.9                          89.1   \n",
       "\n",
       "   White (Not Latino) Population  Asian American Population  \\\n",
       "0                          97.05                        0.2   \n",
       "1                          80.65                        1.6   \n",
       "2                          90.35                        0.6   \n",
       "3                          95.45                        0.3   \n",
       "4                          76.80                        0.6   \n",
       "\n",
       "   African American Population  \\\n",
       "0                         0.30   \n",
       "1                        10.45   \n",
       "2                         3.05   \n",
       "3                         0.45   \n",
       "4                         1.65   \n",
       "\n",
       "   Construction.extraction.maintenance.and.repair.occupations  \\\n",
       "0                                              13.85            \n",
       "1                                               8.35            \n",
       "2                                               8.05            \n",
       "3                                              12.05            \n",
       "4                                              13.85            \n",
       "\n",
       "   Average Unemployment %  Poverty Percent, All Ages  realGDP2016  \\\n",
       "0                     9.6                       14.7       393475   \n",
       "1                     4.8                       16.8      5594998   \n",
       "2                     4.8                       16.8      1245185   \n",
       "3                     5.3                       12.0      1602095   \n",
       "4                     9.9                       13.7       616120   \n",
       "\n",
       "   At Least Bachelors's Degree  Graduate Degree  1824tot_per  1824M_per  \\\n",
       "0                         14.3              4.7     0.070504   0.037034   \n",
       "1                         18.8              6.5     0.118989   0.061094   \n",
       "2                         14.1              4.8     0.101433   0.054194   \n",
       "3                         14.9              5.6     0.110296   0.057764   \n",
       "4                         20.1              7.6     0.078798   0.043072   \n",
       "\n",
       "   1824F_per  2544tot_per  2544M_per  2544F_per  4564tot_per  4564M_per  \\\n",
       "0   0.033471     0.193137   0.097412   0.095725     0.376055   0.185824   \n",
       "1   0.057895     0.308407   0.151431   0.156975     0.352965   0.173308   \n",
       "2   0.047239     0.309689   0.170651   0.139038     0.362648   0.189468   \n",
       "3   0.052533     0.289581   0.146615   0.142966     0.379568   0.186526   \n",
       "4   0.035726     0.220924   0.114079   0.106845     0.384307   0.193322   \n",
       "\n",
       "   4564F_per  65tot_per   65M_per   65F_per   log_gdp  \n",
       "0   0.190231   0.360304  0.178417  0.181886  5.594917  \n",
       "1   0.179657   0.219640  0.096424  0.123215  6.747800  \n",
       "2   0.173180   0.226230  0.103059  0.123171  6.095234  \n",
       "3   0.193042   0.220555  0.099090  0.121465  6.204688  \n",
       "4   0.190985   0.315971  0.155036  0.160935  5.789665  "
      ]
     },
     "execution_count": 108,
     "metadata": {},
     "output_type": "execute_result"
    }
   ],
   "source": [
    "df.head()"
   ]
  },
  {
   "cell_type": "code",
   "execution_count": 109,
   "metadata": {},
   "outputs": [],
   "source": [
    "# This is our set of features WITHOUT including the percentage of vote share each party won in 2012 in each \n",
    "# county. Through this model we are able to see how effective external factors are in predicting the voting\n",
    "# tendencies of counties. \n",
    "df_features = df[['Less Than High School Diploma','At Least High School Diploma',\n",
    "                  'White (Not Latino) Population','Asian American Population',\n",
    "            'African American Population',\n",
    "           'Average Unemployment %','Poverty Percent, All Ages', 'log_gdp', \n",
    "                  \"At Least Bachelors's Degree\", 'Graduate Degree','1824tot_per','1824M_per',\n",
    "             '1824F_per','2544tot_per','2544M_per','2544F_per','4564tot_per','4564M_per','4564F_per',\n",
    "                  '65tot_per','65M_per','65F_per']]"
   ]
  },
  {
   "cell_type": "code",
   "execution_count": 110,
   "metadata": {},
   "outputs": [],
   "source": [
    "# Creating train test split, using all variables\n",
    "x_train, x_test, y_train, y_test = train_test_split(df_features, df['Democrats Target Year'],\n",
    "                                                    test_size=0.2,shuffle=True)"
   ]
  },
  {
   "cell_type": "code",
   "execution_count": 111,
   "metadata": {},
   "outputs": [
    {
     "name": "stdout",
     "output_type": "stream",
     "text": [
      "Train score: 0.5705821241172695\n",
      "Test score: 0.5384714180074277\n"
     ]
    }
   ],
   "source": [
    "# SIMPLE linear regression without cross validation\n",
    "model_baseline = LinearRegression()\n",
    "model_baseline.fit(x_train,y_train)\n",
    "predictions = model_baseline.predict(x_test)\n",
    "test_score = model_baseline.score(x_test,y_test)\n",
    "train_score = model_baseline.score(x_train,y_train)\n",
    "print(\"Train score: \"+str(train_score))\n",
    "print(\"Test score: \"+str(test_score))"
   ]
  },
  {
   "cell_type": "code",
   "execution_count": 112,
   "metadata": {},
   "outputs": [
    {
     "name": "stdout",
     "output_type": "stream",
     "text": [
      "Mean squared error: 92.955043677078\n"
     ]
    }
   ],
   "source": [
    "mse_baseline = mean_squared_error(y_test,predictions)\n",
    "print(\"Mean squared error: \"+str(mse_baseline))\n"
   ]
  },
  {
   "cell_type": "code",
   "execution_count": 113,
   "metadata": {},
   "outputs": [],
   "source": [
    "#Now lets use cross validation to get a better estimate of test score \n",
    "scores = cross_validate(model_baseline,x_train,y_train,cv=5,\n",
    "                        scoring=('r2', 'neg_mean_squared_error'),return_train_score=True) \n"
   ]
  },
  {
   "cell_type": "code",
   "execution_count": 114,
   "metadata": {},
   "outputs": [],
   "source": [
    "#defining functions to print out scores and mses for cross validation sets\n",
    "def print_r2(s):\n",
    "    print(\"Training R^2: \"+str(s['train_r2']))\n",
    "    print(\"\\nValidation R^2: \"+str(s['test_r2']))\n",
    "    \n",
    "def print_mse(s):\n",
    "    print(\"Training negative MSE: \"+str(s['train_neg_mean_squared_error']))\n",
    "    print(\"\\nValidation negative MSE: \"+str(s['test_neg_mean_squared_error']))"
   ]
  },
  {
   "cell_type": "code",
   "execution_count": 115,
   "metadata": {},
   "outputs": [
    {
     "name": "stdout",
     "output_type": "stream",
     "text": [
      "Training R^2: [0.58108828 0.56831705 0.57480578 0.57047727 0.57693534]\n",
      "\n",
      "Validation R^2: [0.49097951 0.57108228 0.53068465 0.55608901 0.50611777]\n"
     ]
    }
   ],
   "source": [
    "print_r2(scores)"
   ]
  },
  {
   "cell_type": "code",
   "execution_count": 116,
   "metadata": {},
   "outputs": [
    {
     "name": "stdout",
     "output_type": "stream",
     "text": [
      "Training negative MSE: [-80.96806324 -84.00927083 -79.93995589 -79.30346839 -84.10323954]\n",
      "\n",
      "Validation negative MSE: [-94.60533558 -77.55094086 -96.28362653 -98.07331283 -81.12255375]\n"
     ]
    }
   ],
   "source": [
    "print_mse(scores)"
   ]
  },
  {
   "cell_type": "markdown",
   "metadata": {},
   "source": [
    "While this model does not give good results in terms of the r^2 values and the mse, it serves as a good baseline to compare our next models to. Using just demographic and economic characteristics of counties can explain about 55% of the variation in the percentage of votes that the democratic candidate will recieve in that county"
   ]
  },
  {
   "cell_type": "code",
   "execution_count": 117,
   "metadata": {},
   "outputs": [],
   "source": [
    "# this set of features includes all from above as well as the percentage vote share for each party in 2012\n",
    "df_features2 = df[['Democrats Previous Year', 'Republicans Previous Year','Less Than High School Diploma',\n",
    "                   'At Least High School Diploma',\n",
    "                  'White (Not Latino) Population','Asian American Population',\n",
    "            'African American Population',\n",
    "           'Average Unemployment %','Poverty Percent, All Ages', 'log_gdp', \n",
    "                  \"At Least Bachelors's Degree\", 'Graduate Degree','1824tot_per','1824M_per',\n",
    "             '1824F_per','2544tot_per','2544M_per','2544F_per','4564tot_per','4564M_per','4564F_per','65tot_per',\n",
    "             '65M_per','65F_per']]"
   ]
  },
  {
   "cell_type": "code",
   "execution_count": 118,
   "metadata": {},
   "outputs": [],
   "source": [
    "x_train2, x_test2, y_train2, y_test2 = train_test_split(df_features2, df['Democrats Target Year'],\n",
    "                                                    test_size=0.2,shuffle=True)\n",
    "model_vote = LinearRegression()\n",
    "model_vote.fit(x_train2,y_train2)\n",
    "scores2 = cross_validate(model_vote,x_train2,y_train2,cv=5,\n",
    "                         scoring=('r2', 'neg_mean_squared_error'),return_train_score=True) \n"
   ]
  },
  {
   "cell_type": "code",
   "execution_count": 119,
   "metadata": {},
   "outputs": [
    {
     "name": "stdout",
     "output_type": "stream",
     "text": [
      "Training R^2: [0.97993887 0.97939656 0.97949356 0.97970858 0.98004011]\n",
      "\n",
      "Validation R^2: [0.97657854 0.97906726 0.97878168 0.97772311 0.97606678]\n"
     ]
    }
   ],
   "source": [
    "print_r2(scores2)"
   ]
  },
  {
   "cell_type": "code",
   "execution_count": 120,
   "metadata": {},
   "outputs": [
    {
     "name": "stdout",
     "output_type": "stream",
     "text": [
      "Training negative MSE: [-3.92604182 -3.91858918 -3.83393475 -4.08847393 -3.88707064]\n",
      "\n",
      "Validation negative MSE: [-4.37226578 -4.26280494 -4.70200654 -3.57126941 -4.55346751]\n"
     ]
    }
   ],
   "source": [
    "print_mse(scores2)"
   ]
  },
  {
   "cell_type": "markdown",
   "metadata": {},
   "source": [
    "We can see this model is significantly better than our previous model as is expected."
   ]
  },
  {
   "cell_type": "code",
   "execution_count": 121,
   "metadata": {},
   "outputs": [],
   "source": [
    "# now let's see how a model preforms with just the percentage vote share from 2012 as our features\n",
    "df_features3 = df[['Democrats Previous Year', 'Republicans Previous Year']]\n",
    "x_train3, x_test3, y_train3, y_test3 = train_test_split(df_features3, df['Democrats Target Year'], \n",
    "                                                    test_size=0.2,shuffle=True)\n",
    "model_onlyvote = LinearRegression()\n",
    "model_onlyvote.fit(x_train3,y_train3)\n",
    "scores3 = cross_validate(model_onlyvote,x_train3,y_train3,cv=5,\n",
    "                         scoring=('r2', 'neg_mean_squared_error'),return_train_score=True) \n",
    "\n"
   ]
  },
  {
   "cell_type": "code",
   "execution_count": 122,
   "metadata": {},
   "outputs": [
    {
     "name": "stdout",
     "output_type": "stream",
     "text": [
      "Training R^2: [0.88587415 0.88406709 0.88282334 0.88012567 0.88532619]\n",
      "\n",
      "Validation R^2: [0.87218522 0.8787062  0.88545201 0.89631295 0.87465688]\n"
     ]
    }
   ],
   "source": [
    "print_r2(scores3)"
   ]
  },
  {
   "cell_type": "code",
   "execution_count": 123,
   "metadata": {},
   "outputs": [
    {
     "name": "stdout",
     "output_type": "stream",
     "text": [
      "Training negative MSE: [-22.36426625 -22.89425625 -22.38856115 -23.31001802 -21.8533111 ]\n",
      "\n",
      "Validation negative MSE: [-23.66569287 -21.79298063 -23.51392564 -19.8180654  -25.85268553]\n"
     ]
    }
   ],
   "source": [
    "print_mse(scores3)"
   ]
  },
  {
   "cell_type": "markdown",
   "metadata": {},
   "source": [
    "We can see that this model outpreforms our original model that did not include the previous percentage vote share but it preforms worse than the model that contains all the demographic and economic features as well as the percentage vote share. This indicates that we should investigate using a combination of these features and that the demographic and economic features do contribute to increasing our models accuracy. "
   ]
  },
  {
   "cell_type": "code",
   "execution_count": 124,
   "metadata": {},
   "outputs": [],
   "source": [
    "# Now we are investigating a less complex model \n",
    "# We will drop the percentage of population in certain age groups broken down by gender, but include the \n",
    "# overall percentages for age groups still\n",
    "df_features4 = df[['Democrats Previous Year', 'Republicans Previous Year','Less Than High School Diploma','At Least High School Diploma',\n",
    "                  'White (Not Latino) Population','Asian American Population',\n",
    "            'African American Population',\n",
    "           'Average Unemployment %','Poverty Percent, All Ages', 'log_gdp', \n",
    "                  \"At Least Bachelors's Degree\", 'Graduate Degree','1824tot_per'\n",
    "             ,'2544tot_per','4564tot_per','65tot_per']]\n",
    "x_train_main, x_test_main, y_train_main, y_test_main = train_test_split(df_features4, df['Democrats Target Year'], \n",
    "                                                        test_size=0.2, shuffle=True)\n",
    "model_4 = LinearRegression()\n",
    "model_4.fit(x_train_main,y_train_main)\n",
    "scores_4 = cross_validate(model_4,x_train_main,y_train_main,cv=5,                    \n",
    "                          scoring=('r2', 'neg_mean_squared_error'),return_train_score=True)\n",
    "\n"
   ]
  },
  {
   "cell_type": "code",
   "execution_count": 125,
   "metadata": {},
   "outputs": [
    {
     "name": "stdout",
     "output_type": "stream",
     "text": [
      "Training R^2: [0.97920881 0.97968654 0.97816663 0.97882981 0.97853334]\n",
      "\n",
      "Validation R^2: [0.97629184 0.97357119 0.98007358 0.97765812 0.97850071]\n"
     ]
    }
   ],
   "source": [
    "print_r2(scores_4)"
   ]
  },
  {
   "cell_type": "code",
   "execution_count": 126,
   "metadata": {},
   "outputs": [
    {
     "name": "stdout",
     "output_type": "stream",
     "text": [
      "Training negative MSE: [-3.85318672 -3.89018986 -4.14214923 -4.10796313 -4.0310906 ]\n",
      "\n",
      "Validation negative MSE: [-4.91134456 -4.82406516 -3.73774251 -3.85061023 -4.17222072]\n"
     ]
    }
   ],
   "source": [
    "print_mse(scores_4)"
   ]
  },
  {
   "cell_type": "markdown",
   "metadata": {},
   "source": [
    "Comparing the r^2s and the mse values of this model to the one that included all the features, we can see that they are very very similar. This indicates to us that this, less complex, model preforms about the same. Thus we will precede with this subset of features because it is generally preferable to use a less complex model(sparsity). "
   ]
  },
  {
   "cell_type": "code",
   "execution_count": 127,
   "metadata": {},
   "outputs": [
    {
     "data": {
      "text/html": [
       "<div>\n",
       "<style scoped>\n",
       "    .dataframe tbody tr th:only-of-type {\n",
       "        vertical-align: middle;\n",
       "    }\n",
       "\n",
       "    .dataframe tbody tr th {\n",
       "        vertical-align: top;\n",
       "    }\n",
       "\n",
       "    .dataframe thead th {\n",
       "        text-align: right;\n",
       "    }\n",
       "</style>\n",
       "<table border=\"1\" class=\"dataframe\">\n",
       "  <thead>\n",
       "    <tr style=\"text-align: right;\">\n",
       "      <th></th>\n",
       "      <th>Democrats Target Year</th>\n",
       "      <th>Republicans Target Year</th>\n",
       "      <th>Democrats Previous Year</th>\n",
       "      <th>Republicans Previous Year</th>\n",
       "      <th>State</th>\n",
       "      <th>County</th>\n",
       "      <th>Fips</th>\n",
       "      <th>Less Than High School Diploma</th>\n",
       "      <th>At Least High School Diploma</th>\n",
       "      <th>White (Not Latino) Population</th>\n",
       "      <th>Asian American Population</th>\n",
       "      <th>African American Population</th>\n",
       "      <th>Construction.extraction.maintenance.and.repair.occupations</th>\n",
       "      <th>Average Unemployment %</th>\n",
       "      <th>Poverty Percent, All Ages</th>\n",
       "      <th>realGDP2016</th>\n",
       "      <th>At Least Bachelors's Degree</th>\n",
       "      <th>Graduate Degree</th>\n",
       "      <th>1824tot_per</th>\n",
       "      <th>1824M_per</th>\n",
       "      <th>1824F_per</th>\n",
       "      <th>2544tot_per</th>\n",
       "      <th>2544M_per</th>\n",
       "      <th>2544F_per</th>\n",
       "      <th>4564tot_per</th>\n",
       "      <th>4564M_per</th>\n",
       "      <th>4564F_per</th>\n",
       "      <th>65tot_per</th>\n",
       "      <th>65M_per</th>\n",
       "      <th>65F_per</th>\n",
       "      <th>log_gdp</th>\n",
       "    </tr>\n",
       "  </thead>\n",
       "  <tbody>\n",
       "    <tr>\n",
       "      <th>0</th>\n",
       "      <td>33.264033</td>\n",
       "      <td>62.176022</td>\n",
       "      <td>45.084746</td>\n",
       "      <td>53.587571</td>\n",
       "      <td>Michigan</td>\n",
       "      <td>Presque Isle County, Michigan</td>\n",
       "      <td>26141</td>\n",
       "      <td>14.7</td>\n",
       "      <td>85.3</td>\n",
       "      <td>97.05</td>\n",
       "      <td>0.2</td>\n",
       "      <td>0.30</td>\n",
       "      <td>13.85</td>\n",
       "      <td>9.6</td>\n",
       "      <td>14.7</td>\n",
       "      <td>393475</td>\n",
       "      <td>14.3</td>\n",
       "      <td>4.7</td>\n",
       "      <td>0.070504</td>\n",
       "      <td>0.037034</td>\n",
       "      <td>0.033471</td>\n",
       "      <td>0.193137</td>\n",
       "      <td>0.097412</td>\n",
       "      <td>0.095725</td>\n",
       "      <td>0.376055</td>\n",
       "      <td>0.185824</td>\n",
       "      <td>0.190231</td>\n",
       "      <td>0.360304</td>\n",
       "      <td>0.178417</td>\n",
       "      <td>0.181886</td>\n",
       "      <td>5.594917</td>\n",
       "    </tr>\n",
       "    <tr>\n",
       "      <th>1</th>\n",
       "      <td>41.088014</td>\n",
       "      <td>53.565475</td>\n",
       "      <td>50.177448</td>\n",
       "      <td>48.576131</td>\n",
       "      <td>Michigan</td>\n",
       "      <td>Calhoun County, Michigan</td>\n",
       "      <td>26025</td>\n",
       "      <td>12.9</td>\n",
       "      <td>87.1</td>\n",
       "      <td>80.65</td>\n",
       "      <td>1.6</td>\n",
       "      <td>10.45</td>\n",
       "      <td>8.35</td>\n",
       "      <td>4.8</td>\n",
       "      <td>16.8</td>\n",
       "      <td>5594998</td>\n",
       "      <td>18.8</td>\n",
       "      <td>6.5</td>\n",
       "      <td>0.118989</td>\n",
       "      <td>0.061094</td>\n",
       "      <td>0.057895</td>\n",
       "      <td>0.308407</td>\n",
       "      <td>0.151431</td>\n",
       "      <td>0.156975</td>\n",
       "      <td>0.352965</td>\n",
       "      <td>0.173308</td>\n",
       "      <td>0.179657</td>\n",
       "      <td>0.219640</td>\n",
       "      <td>0.096424</td>\n",
       "      <td>0.123215</td>\n",
       "      <td>6.747800</td>\n",
       "    </tr>\n",
       "    <tr>\n",
       "      <th>2</th>\n",
       "      <td>28.744694</td>\n",
       "      <td>66.858702</td>\n",
       "      <td>40.316090</td>\n",
       "      <td>58.523357</td>\n",
       "      <td>Michigan</td>\n",
       "      <td>Branch County, Michigan</td>\n",
       "      <td>26023</td>\n",
       "      <td>13.4</td>\n",
       "      <td>86.6</td>\n",
       "      <td>90.35</td>\n",
       "      <td>0.6</td>\n",
       "      <td>3.05</td>\n",
       "      <td>8.05</td>\n",
       "      <td>4.8</td>\n",
       "      <td>16.8</td>\n",
       "      <td>1245185</td>\n",
       "      <td>14.1</td>\n",
       "      <td>4.8</td>\n",
       "      <td>0.101433</td>\n",
       "      <td>0.054194</td>\n",
       "      <td>0.047239</td>\n",
       "      <td>0.309689</td>\n",
       "      <td>0.170651</td>\n",
       "      <td>0.139038</td>\n",
       "      <td>0.362648</td>\n",
       "      <td>0.189468</td>\n",
       "      <td>0.173180</td>\n",
       "      <td>0.226230</td>\n",
       "      <td>0.103059</td>\n",
       "      <td>0.123171</td>\n",
       "      <td>6.095234</td>\n",
       "    </tr>\n",
       "    <tr>\n",
       "      <th>3</th>\n",
       "      <td>36.855246</td>\n",
       "      <td>56.491599</td>\n",
       "      <td>51.061492</td>\n",
       "      <td>47.394519</td>\n",
       "      <td>Michigan</td>\n",
       "      <td>Shiawassee County, Michigan</td>\n",
       "      <td>26155</td>\n",
       "      <td>10.7</td>\n",
       "      <td>89.3</td>\n",
       "      <td>95.45</td>\n",
       "      <td>0.3</td>\n",
       "      <td>0.45</td>\n",
       "      <td>12.05</td>\n",
       "      <td>5.3</td>\n",
       "      <td>12.0</td>\n",
       "      <td>1602095</td>\n",
       "      <td>14.9</td>\n",
       "      <td>5.6</td>\n",
       "      <td>0.110296</td>\n",
       "      <td>0.057764</td>\n",
       "      <td>0.052533</td>\n",
       "      <td>0.289581</td>\n",
       "      <td>0.146615</td>\n",
       "      <td>0.142966</td>\n",
       "      <td>0.379568</td>\n",
       "      <td>0.186526</td>\n",
       "      <td>0.193042</td>\n",
       "      <td>0.220555</td>\n",
       "      <td>0.099090</td>\n",
       "      <td>0.121465</td>\n",
       "      <td>6.204688</td>\n",
       "    </tr>\n",
       "    <tr>\n",
       "      <th>4</th>\n",
       "      <td>34.247700</td>\n",
       "      <td>61.432326</td>\n",
       "      <td>43.482538</td>\n",
       "      <td>55.697655</td>\n",
       "      <td>Michigan</td>\n",
       "      <td>Mackinac County, Michigan</td>\n",
       "      <td>26097</td>\n",
       "      <td>10.9</td>\n",
       "      <td>89.1</td>\n",
       "      <td>76.80</td>\n",
       "      <td>0.6</td>\n",
       "      <td>1.65</td>\n",
       "      <td>13.85</td>\n",
       "      <td>9.9</td>\n",
       "      <td>13.7</td>\n",
       "      <td>616120</td>\n",
       "      <td>20.1</td>\n",
       "      <td>7.6</td>\n",
       "      <td>0.078798</td>\n",
       "      <td>0.043072</td>\n",
       "      <td>0.035726</td>\n",
       "      <td>0.220924</td>\n",
       "      <td>0.114079</td>\n",
       "      <td>0.106845</td>\n",
       "      <td>0.384307</td>\n",
       "      <td>0.193322</td>\n",
       "      <td>0.190985</td>\n",
       "      <td>0.315971</td>\n",
       "      <td>0.155036</td>\n",
       "      <td>0.160935</td>\n",
       "      <td>5.789665</td>\n",
       "    </tr>\n",
       "  </tbody>\n",
       "</table>\n",
       "</div>"
      ],
      "text/plain": [
       "   Democrats Target Year  Republicans Target Year  Democrats Previous Year  \\\n",
       "0              33.264033                62.176022                45.084746   \n",
       "1              41.088014                53.565475                50.177448   \n",
       "2              28.744694                66.858702                40.316090   \n",
       "3              36.855246                56.491599                51.061492   \n",
       "4              34.247700                61.432326                43.482538   \n",
       "\n",
       "   Republicans Previous Year     State                         County   Fips  \\\n",
       "0                  53.587571  Michigan  Presque Isle County, Michigan  26141   \n",
       "1                  48.576131  Michigan       Calhoun County, Michigan  26025   \n",
       "2                  58.523357  Michigan        Branch County, Michigan  26023   \n",
       "3                  47.394519  Michigan    Shiawassee County, Michigan  26155   \n",
       "4                  55.697655  Michigan      Mackinac County, Michigan  26097   \n",
       "\n",
       "   Less Than High School Diploma  At Least High School Diploma  \\\n",
       "0                           14.7                          85.3   \n",
       "1                           12.9                          87.1   \n",
       "2                           13.4                          86.6   \n",
       "3                           10.7                          89.3   \n",
       "4                           10.9                          89.1   \n",
       "\n",
       "   White (Not Latino) Population  Asian American Population  \\\n",
       "0                          97.05                        0.2   \n",
       "1                          80.65                        1.6   \n",
       "2                          90.35                        0.6   \n",
       "3                          95.45                        0.3   \n",
       "4                          76.80                        0.6   \n",
       "\n",
       "   African American Population  \\\n",
       "0                         0.30   \n",
       "1                        10.45   \n",
       "2                         3.05   \n",
       "3                         0.45   \n",
       "4                         1.65   \n",
       "\n",
       "   Construction.extraction.maintenance.and.repair.occupations  \\\n",
       "0                                              13.85            \n",
       "1                                               8.35            \n",
       "2                                               8.05            \n",
       "3                                              12.05            \n",
       "4                                              13.85            \n",
       "\n",
       "   Average Unemployment %  Poverty Percent, All Ages  realGDP2016  \\\n",
       "0                     9.6                       14.7       393475   \n",
       "1                     4.8                       16.8      5594998   \n",
       "2                     4.8                       16.8      1245185   \n",
       "3                     5.3                       12.0      1602095   \n",
       "4                     9.9                       13.7       616120   \n",
       "\n",
       "   At Least Bachelors's Degree  Graduate Degree  1824tot_per  1824M_per  \\\n",
       "0                         14.3              4.7     0.070504   0.037034   \n",
       "1                         18.8              6.5     0.118989   0.061094   \n",
       "2                         14.1              4.8     0.101433   0.054194   \n",
       "3                         14.9              5.6     0.110296   0.057764   \n",
       "4                         20.1              7.6     0.078798   0.043072   \n",
       "\n",
       "   1824F_per  2544tot_per  2544M_per  2544F_per  4564tot_per  4564M_per  \\\n",
       "0   0.033471     0.193137   0.097412   0.095725     0.376055   0.185824   \n",
       "1   0.057895     0.308407   0.151431   0.156975     0.352965   0.173308   \n",
       "2   0.047239     0.309689   0.170651   0.139038     0.362648   0.189468   \n",
       "3   0.052533     0.289581   0.146615   0.142966     0.379568   0.186526   \n",
       "4   0.035726     0.220924   0.114079   0.106845     0.384307   0.193322   \n",
       "\n",
       "   4564F_per  65tot_per   65M_per   65F_per   log_gdp  \n",
       "0   0.190231   0.360304  0.178417  0.181886  5.594917  \n",
       "1   0.179657   0.219640  0.096424  0.123215  6.747800  \n",
       "2   0.173180   0.226230  0.103059  0.123171  6.095234  \n",
       "3   0.193042   0.220555  0.099090  0.121465  6.204688  \n",
       "4   0.190985   0.315971  0.155036  0.160935  5.789665  "
      ]
     },
     "execution_count": 127,
     "metadata": {},
     "output_type": "execute_result"
    }
   ],
   "source": [
    "# Now we will break it down by geographical subsets to see if we can improve scores\n",
    "# first we will look at a group of states in the midwest\n",
    "midwest = [\"Michigan\",\"Minnesota\",\"Ohio\",\"Wisconsin\",\"Iowa\"]\n",
    "df_midwest = df[df.State.isin(midwest)]\n",
    "df_midwest.head()"
   ]
  },
  {
   "cell_type": "code",
   "execution_count": 128,
   "metadata": {},
   "outputs": [],
   "source": [
    "df_features_midwest = df_midwest[['Democrats Previous Year', 'Republicans Previous Year','Less Than High School Diploma','At Least High School Diploma',\n",
    "                  'White (Not Latino) Population','Asian American Population',\n",
    "            'African American Population',\n",
    "           'Average Unemployment %','Poverty Percent, All Ages', 'log_gdp', \n",
    "                  \"At Least Bachelors's Degree\", 'Graduate Degree','1824tot_per'\n",
    "             ,'2544tot_per','4564tot_per','65tot_per']]\n",
    "x_train, x_test, y_train, y_test = train_test_split(df_features_midwest, df_midwest['Democrats Target Year'], \n",
    "                                                    test_size=0.2,shuffle=True)\n",
    "model_midwest = LinearRegression()\n",
    "scores_midwest = cross_validate(model_midwest,x_train,y_train,cv=5,\n",
    "                                scoring=('r2', 'neg_mean_squared_error'),return_train_score=True)   "
   ]
  },
  {
   "cell_type": "code",
   "execution_count": 129,
   "metadata": {},
   "outputs": [
    {
     "name": "stdout",
     "output_type": "stream",
     "text": [
      "Training R^2: [0.96357478 0.96383879 0.96740829 0.96409083 0.96961857]\n",
      "\n",
      "Validation R^2: [0.96638276 0.96492833 0.93256443 0.96883147 0.94122123]\n"
     ]
    }
   ],
   "source": [
    "print_r2(scores_midwest)"
   ]
  },
  {
   "cell_type": "code",
   "execution_count": 130,
   "metadata": {},
   "outputs": [
    {
     "name": "stdout",
     "output_type": "stream",
     "text": [
      "Training negative MSE: [-3.07031534 -3.47163955 -3.14822025 -3.17929886 -2.96955285]\n",
      "\n",
      "Validation negative MSE: [-4.2365491  -2.71209591 -5.08875275 -3.32990632 -3.98658717]\n"
     ]
    }
   ],
   "source": [
    "print_mse(scores_midwest)"
   ]
  },
  {
   "cell_type": "code",
   "execution_count": 131,
   "metadata": {},
   "outputs": [
    {
     "data": {
      "text/html": [
       "<div>\n",
       "<style scoped>\n",
       "    .dataframe tbody tr th:only-of-type {\n",
       "        vertical-align: middle;\n",
       "    }\n",
       "\n",
       "    .dataframe tbody tr th {\n",
       "        vertical-align: top;\n",
       "    }\n",
       "\n",
       "    .dataframe thead th {\n",
       "        text-align: right;\n",
       "    }\n",
       "</style>\n",
       "<table border=\"1\" class=\"dataframe\">\n",
       "  <thead>\n",
       "    <tr style=\"text-align: right;\">\n",
       "      <th></th>\n",
       "      <th>Democrats Target Year</th>\n",
       "      <th>Republicans Target Year</th>\n",
       "      <th>Democrats Previous Year</th>\n",
       "      <th>Republicans Previous Year</th>\n",
       "      <th>State</th>\n",
       "      <th>County</th>\n",
       "      <th>Fips</th>\n",
       "      <th>Less Than High School Diploma</th>\n",
       "      <th>At Least High School Diploma</th>\n",
       "      <th>White (Not Latino) Population</th>\n",
       "      <th>Asian American Population</th>\n",
       "      <th>African American Population</th>\n",
       "      <th>Construction.extraction.maintenance.and.repair.occupations</th>\n",
       "      <th>Average Unemployment %</th>\n",
       "      <th>Poverty Percent, All Ages</th>\n",
       "      <th>realGDP2016</th>\n",
       "      <th>At Least Bachelors's Degree</th>\n",
       "      <th>Graduate Degree</th>\n",
       "      <th>1824tot_per</th>\n",
       "      <th>1824M_per</th>\n",
       "      <th>1824F_per</th>\n",
       "      <th>2544tot_per</th>\n",
       "      <th>2544M_per</th>\n",
       "      <th>2544F_per</th>\n",
       "      <th>4564tot_per</th>\n",
       "      <th>4564M_per</th>\n",
       "      <th>4564F_per</th>\n",
       "      <th>65tot_per</th>\n",
       "      <th>65M_per</th>\n",
       "      <th>65F_per</th>\n",
       "      <th>log_gdp</th>\n",
       "    </tr>\n",
       "  </thead>\n",
       "  <tbody>\n",
       "    <tr>\n",
       "      <th>83</th>\n",
       "      <td>47.494950</td>\n",
       "      <td>48.995648</td>\n",
       "      <td>47.769323</td>\n",
       "      <td>51.381820</td>\n",
       "      <td>Florida</td>\n",
       "      <td>Duval County, Florida</td>\n",
       "      <td>12031</td>\n",
       "      <td>12.8</td>\n",
       "      <td>87.2</td>\n",
       "      <td>58.00</td>\n",
       "      <td>3.80</td>\n",
       "      <td>28.85</td>\n",
       "      <td>9.80</td>\n",
       "      <td>4.9</td>\n",
       "      <td>14.5</td>\n",
       "      <td>54932423</td>\n",
       "      <td>24.9</td>\n",
       "      <td>8.0</td>\n",
       "      <td>0.119038</td>\n",
       "      <td>0.061204</td>\n",
       "      <td>0.057834</td>\n",
       "      <td>0.375322</td>\n",
       "      <td>0.184902</td>\n",
       "      <td>0.190420</td>\n",
       "      <td>0.333032</td>\n",
       "      <td>0.158291</td>\n",
       "      <td>0.174741</td>\n",
       "      <td>0.172608</td>\n",
       "      <td>0.073872</td>\n",
       "      <td>0.098736</td>\n",
       "      <td>7.739829</td>\n",
       "    </tr>\n",
       "    <tr>\n",
       "      <th>84</th>\n",
       "      <td>28.952191</td>\n",
       "      <td>68.615692</td>\n",
       "      <td>33.704786</td>\n",
       "      <td>65.217391</td>\n",
       "      <td>Florida</td>\n",
       "      <td>Franklin County, Florida</td>\n",
       "      <td>12037</td>\n",
       "      <td>21.7</td>\n",
       "      <td>78.3</td>\n",
       "      <td>80.20</td>\n",
       "      <td>0.70</td>\n",
       "      <td>12.65</td>\n",
       "      <td>15.35</td>\n",
       "      <td>4.3</td>\n",
       "      <td>23.1</td>\n",
       "      <td>326130</td>\n",
       "      <td>18.8</td>\n",
       "      <td>5.5</td>\n",
       "      <td>0.086921</td>\n",
       "      <td>0.056398</td>\n",
       "      <td>0.030524</td>\n",
       "      <td>0.326258</td>\n",
       "      <td>0.219729</td>\n",
       "      <td>0.106529</td>\n",
       "      <td>0.323833</td>\n",
       "      <td>0.172226</td>\n",
       "      <td>0.151607</td>\n",
       "      <td>0.262988</td>\n",
       "      <td>0.132909</td>\n",
       "      <td>0.130079</td>\n",
       "      <td>5.513391</td>\n",
       "    </tr>\n",
       "    <tr>\n",
       "      <th>85</th>\n",
       "      <td>47.474970</td>\n",
       "      <td>49.916507</td>\n",
       "      <td>53.540280</td>\n",
       "      <td>45.682655</td>\n",
       "      <td>Florida</td>\n",
       "      <td>St. Lucie County, Florida</td>\n",
       "      <td>12111</td>\n",
       "      <td>16.6</td>\n",
       "      <td>83.4</td>\n",
       "      <td>63.45</td>\n",
       "      <td>1.55</td>\n",
       "      <td>17.50</td>\n",
       "      <td>13.65</td>\n",
       "      <td>5.8</td>\n",
       "      <td>17.0</td>\n",
       "      <td>7824890</td>\n",
       "      <td>17.8</td>\n",
       "      <td>6.3</td>\n",
       "      <td>0.092861</td>\n",
       "      <td>0.048053</td>\n",
       "      <td>0.044807</td>\n",
       "      <td>0.279555</td>\n",
       "      <td>0.137036</td>\n",
       "      <td>0.142519</td>\n",
       "      <td>0.335787</td>\n",
       "      <td>0.160468</td>\n",
       "      <td>0.175319</td>\n",
       "      <td>0.291796</td>\n",
       "      <td>0.135928</td>\n",
       "      <td>0.155868</td>\n",
       "      <td>6.893478</td>\n",
       "    </tr>\n",
       "    <tr>\n",
       "      <th>86</th>\n",
       "      <td>60.384573</td>\n",
       "      <td>35.744045</td>\n",
       "      <td>58.681188</td>\n",
       "      <td>40.438589</td>\n",
       "      <td>Florida</td>\n",
       "      <td>Orange County, Florida</td>\n",
       "      <td>12095</td>\n",
       "      <td>13.1</td>\n",
       "      <td>86.9</td>\n",
       "      <td>47.85</td>\n",
       "      <td>4.55</td>\n",
       "      <td>19.20</td>\n",
       "      <td>9.60</td>\n",
       "      <td>4.3</td>\n",
       "      <td>16.3</td>\n",
       "      <td>81146561</td>\n",
       "      <td>30.3</td>\n",
       "      <td>9.6</td>\n",
       "      <td>0.139616</td>\n",
       "      <td>0.068430</td>\n",
       "      <td>0.071186</td>\n",
       "      <td>0.399467</td>\n",
       "      <td>0.199577</td>\n",
       "      <td>0.199890</td>\n",
       "      <td>0.315060</td>\n",
       "      <td>0.153339</td>\n",
       "      <td>0.161721</td>\n",
       "      <td>0.145857</td>\n",
       "      <td>0.063567</td>\n",
       "      <td>0.082290</td>\n",
       "      <td>7.909270</td>\n",
       "    </tr>\n",
       "    <tr>\n",
       "      <th>87</th>\n",
       "      <td>24.169284</td>\n",
       "      <td>73.673334</td>\n",
       "      <td>28.577568</td>\n",
       "      <td>70.640309</td>\n",
       "      <td>Florida</td>\n",
       "      <td>Bradford County, Florida</td>\n",
       "      <td>12007</td>\n",
       "      <td>23.6</td>\n",
       "      <td>76.4</td>\n",
       "      <td>73.40</td>\n",
       "      <td>0.50</td>\n",
       "      <td>20.20</td>\n",
       "      <td>13.95</td>\n",
       "      <td>4.2</td>\n",
       "      <td>18.6</td>\n",
       "      <td>608141</td>\n",
       "      <td>8.6</td>\n",
       "      <td>3.9</td>\n",
       "      <td>0.097987</td>\n",
       "      <td>0.058848</td>\n",
       "      <td>0.039139</td>\n",
       "      <td>0.343118</td>\n",
       "      <td>0.211938</td>\n",
       "      <td>0.131180</td>\n",
       "      <td>0.334644</td>\n",
       "      <td>0.182257</td>\n",
       "      <td>0.152388</td>\n",
       "      <td>0.224251</td>\n",
       "      <td>0.097566</td>\n",
       "      <td>0.126685</td>\n",
       "      <td>5.784004</td>\n",
       "    </tr>\n",
       "  </tbody>\n",
       "</table>\n",
       "</div>"
      ],
      "text/plain": [
       "    Democrats Target Year  Republicans Target Year  Democrats Previous Year  \\\n",
       "83              47.494950                48.995648                47.769323   \n",
       "84              28.952191                68.615692                33.704786   \n",
       "85              47.474970                49.916507                53.540280   \n",
       "86              60.384573                35.744045                58.681188   \n",
       "87              24.169284                73.673334                28.577568   \n",
       "\n",
       "    Republicans Previous Year    State                     County   Fips  \\\n",
       "83                  51.381820  Florida      Duval County, Florida  12031   \n",
       "84                  65.217391  Florida   Franklin County, Florida  12037   \n",
       "85                  45.682655  Florida  St. Lucie County, Florida  12111   \n",
       "86                  40.438589  Florida     Orange County, Florida  12095   \n",
       "87                  70.640309  Florida   Bradford County, Florida  12007   \n",
       "\n",
       "    Less Than High School Diploma  At Least High School Diploma  \\\n",
       "83                           12.8                          87.2   \n",
       "84                           21.7                          78.3   \n",
       "85                           16.6                          83.4   \n",
       "86                           13.1                          86.9   \n",
       "87                           23.6                          76.4   \n",
       "\n",
       "    White (Not Latino) Population  Asian American Population  \\\n",
       "83                          58.00                       3.80   \n",
       "84                          80.20                       0.70   \n",
       "85                          63.45                       1.55   \n",
       "86                          47.85                       4.55   \n",
       "87                          73.40                       0.50   \n",
       "\n",
       "    African American Population  \\\n",
       "83                        28.85   \n",
       "84                        12.65   \n",
       "85                        17.50   \n",
       "86                        19.20   \n",
       "87                        20.20   \n",
       "\n",
       "    Construction.extraction.maintenance.and.repair.occupations  \\\n",
       "83                                               9.80            \n",
       "84                                              15.35            \n",
       "85                                              13.65            \n",
       "86                                               9.60            \n",
       "87                                              13.95            \n",
       "\n",
       "    Average Unemployment %  Poverty Percent, All Ages  realGDP2016  \\\n",
       "83                     4.9                       14.5     54932423   \n",
       "84                     4.3                       23.1       326130   \n",
       "85                     5.8                       17.0      7824890   \n",
       "86                     4.3                       16.3     81146561   \n",
       "87                     4.2                       18.6       608141   \n",
       "\n",
       "    At Least Bachelors's Degree  Graduate Degree  1824tot_per  1824M_per  \\\n",
       "83                         24.9              8.0     0.119038   0.061204   \n",
       "84                         18.8              5.5     0.086921   0.056398   \n",
       "85                         17.8              6.3     0.092861   0.048053   \n",
       "86                         30.3              9.6     0.139616   0.068430   \n",
       "87                          8.6              3.9     0.097987   0.058848   \n",
       "\n",
       "    1824F_per  2544tot_per  2544M_per  2544F_per  4564tot_per  4564M_per  \\\n",
       "83   0.057834     0.375322   0.184902   0.190420     0.333032   0.158291   \n",
       "84   0.030524     0.326258   0.219729   0.106529     0.323833   0.172226   \n",
       "85   0.044807     0.279555   0.137036   0.142519     0.335787   0.160468   \n",
       "86   0.071186     0.399467   0.199577   0.199890     0.315060   0.153339   \n",
       "87   0.039139     0.343118   0.211938   0.131180     0.334644   0.182257   \n",
       "\n",
       "    4564F_per  65tot_per   65M_per   65F_per   log_gdp  \n",
       "83   0.174741   0.172608  0.073872  0.098736  7.739829  \n",
       "84   0.151607   0.262988  0.132909  0.130079  5.513391  \n",
       "85   0.175319   0.291796  0.135928  0.155868  6.893478  \n",
       "86   0.161721   0.145857  0.063567  0.082290  7.909270  \n",
       "87   0.152388   0.224251  0.097566  0.126685  5.784004  "
      ]
     },
     "execution_count": 131,
     "metadata": {},
     "output_type": "execute_result"
    }
   ],
   "source": [
    "# now we will look at southern states\n",
    "south = [\"Florida\",\"Texas\",\"Georgia\",\"Arizona\"]\n",
    "df_south = df[df.State.isin(south)]\n",
    "df_south.head()"
   ]
  },
  {
   "cell_type": "code",
   "execution_count": 132,
   "metadata": {},
   "outputs": [],
   "source": [
    "df_features_south = df_south[['Democrats Previous Year', 'Republicans Previous Year','Less Than High School Diploma','At Least High School Diploma',\n",
    "                  'White (Not Latino) Population','Asian American Population',\n",
    "            'African American Population',\n",
    "           'Average Unemployment %','Poverty Percent, All Ages', 'log_gdp', \n",
    "                  \"At Least Bachelors's Degree\", 'Graduate Degree','1824tot_per'\n",
    "             ,'2544tot_per','4564tot_per','65tot_per']]\n",
    "x_train, x_test, y_train, y_test = train_test_split(df_features_south, df_south['Democrats Target Year'], \n",
    "                                                    test_size=0.2,shuffle=True)\n",
    "model_south = LinearRegression()\n",
    "scores_south = cross_validate(model_south,x_train,y_train,cv=5,\n",
    "                              scoring=('r2', 'neg_mean_squared_error'),return_train_score=True)   \n"
   ]
  },
  {
   "cell_type": "code",
   "execution_count": 133,
   "metadata": {},
   "outputs": [
    {
     "name": "stdout",
     "output_type": "stream",
     "text": [
      "Training R^2: [0.98738325 0.98781348 0.98694269 0.98691628 0.98739992]\n",
      "\n",
      "Validation R^2: [0.97739427 0.98290171 0.98474031 0.98652561 0.98436043]\n"
     ]
    }
   ],
   "source": [
    "print_r2(scores_south)\n"
   ]
  },
  {
   "cell_type": "code",
   "execution_count": 134,
   "metadata": {},
   "outputs": [
    {
     "name": "stdout",
     "output_type": "stream",
     "text": [
      "Training negative MSE: [-3.4515579  -3.10178497 -3.39513893 -3.43648437 -3.41000574]\n",
      "\n",
      "Validation negative MSE: [-5.13477104 -5.18869529 -4.25315152 -3.60269602 -3.68176334]\n"
     ]
    }
   ],
   "source": [
    "print_mse(scores_south)"
   ]
  },
  {
   "cell_type": "code",
   "execution_count": 135,
   "metadata": {},
   "outputs": [
    {
     "data": {
      "text/html": [
       "<div>\n",
       "<style scoped>\n",
       "    .dataframe tbody tr th:only-of-type {\n",
       "        vertical-align: middle;\n",
       "    }\n",
       "\n",
       "    .dataframe tbody tr th {\n",
       "        vertical-align: top;\n",
       "    }\n",
       "\n",
       "    .dataframe thead th {\n",
       "        text-align: right;\n",
       "    }\n",
       "</style>\n",
       "<table border=\"1\" class=\"dataframe\">\n",
       "  <thead>\n",
       "    <tr style=\"text-align: right;\">\n",
       "      <th></th>\n",
       "      <th>Democrats Target Year</th>\n",
       "      <th>Republicans Target Year</th>\n",
       "      <th>Democrats Previous Year</th>\n",
       "      <th>Republicans Previous Year</th>\n",
       "      <th>State</th>\n",
       "      <th>County</th>\n",
       "      <th>Fips</th>\n",
       "      <th>Less Than High School Diploma</th>\n",
       "      <th>At Least High School Diploma</th>\n",
       "      <th>White (Not Latino) Population</th>\n",
       "      <th>Asian American Population</th>\n",
       "      <th>African American Population</th>\n",
       "      <th>Construction.extraction.maintenance.and.repair.occupations</th>\n",
       "      <th>Average Unemployment %</th>\n",
       "      <th>Poverty Percent, All Ages</th>\n",
       "      <th>realGDP2016</th>\n",
       "      <th>At Least Bachelors's Degree</th>\n",
       "      <th>Graduate Degree</th>\n",
       "      <th>1824tot_per</th>\n",
       "      <th>1824M_per</th>\n",
       "      <th>1824F_per</th>\n",
       "      <th>2544tot_per</th>\n",
       "      <th>2544M_per</th>\n",
       "      <th>2544F_per</th>\n",
       "      <th>4564tot_per</th>\n",
       "      <th>4564M_per</th>\n",
       "      <th>4564F_per</th>\n",
       "      <th>65tot_per</th>\n",
       "      <th>65M_per</th>\n",
       "      <th>65F_per</th>\n",
       "      <th>log_gdp</th>\n",
       "    </tr>\n",
       "  </thead>\n",
       "  <tbody>\n",
       "    <tr>\n",
       "      <th>150</th>\n",
       "      <td>59.392554</td>\n",
       "      <td>37.411176</td>\n",
       "      <td>60.158844</td>\n",
       "      <td>38.818969</td>\n",
       "      <td>Pennsylvania</td>\n",
       "      <td>Delaware County, Pennsylvania</td>\n",
       "      <td>42045</td>\n",
       "      <td>9.5</td>\n",
       "      <td>90.5</td>\n",
       "      <td>72.80</td>\n",
       "      <td>4.50</td>\n",
       "      <td>18.55</td>\n",
       "      <td>7.75</td>\n",
       "      <td>4.9</td>\n",
       "      <td>10.8</td>\n",
       "      <td>29291807</td>\n",
       "      <td>34.7</td>\n",
       "      <td>14.5</td>\n",
       "      <td>0.130446</td>\n",
       "      <td>0.065478</td>\n",
       "      <td>0.064967</td>\n",
       "      <td>0.316355</td>\n",
       "      <td>0.154363</td>\n",
       "      <td>0.161992</td>\n",
       "      <td>0.352134</td>\n",
       "      <td>0.167976</td>\n",
       "      <td>0.184158</td>\n",
       "      <td>0.201066</td>\n",
       "      <td>0.084142</td>\n",
       "      <td>0.116924</td>\n",
       "      <td>7.466746</td>\n",
       "    </tr>\n",
       "    <tr>\n",
       "      <th>151</th>\n",
       "      <td>28.607199</td>\n",
       "      <td>68.271853</td>\n",
       "      <td>38.857778</td>\n",
       "      <td>59.684362</td>\n",
       "      <td>Pennsylvania</td>\n",
       "      <td>Wayne County, Pennsylvania</td>\n",
       "      <td>42127</td>\n",
       "      <td>13.3</td>\n",
       "      <td>86.7</td>\n",
       "      <td>92.65</td>\n",
       "      <td>0.65</td>\n",
       "      <td>2.55</td>\n",
       "      <td>13.75</td>\n",
       "      <td>5.7</td>\n",
       "      <td>13.7</td>\n",
       "      <td>1456959</td>\n",
       "      <td>17.9</td>\n",
       "      <td>7.3</td>\n",
       "      <td>0.086419</td>\n",
       "      <td>0.047789</td>\n",
       "      <td>0.038630</td>\n",
       "      <td>0.262029</td>\n",
       "      <td>0.153723</td>\n",
       "      <td>0.108306</td>\n",
       "      <td>0.373482</td>\n",
       "      <td>0.195266</td>\n",
       "      <td>0.178217</td>\n",
       "      <td>0.278069</td>\n",
       "      <td>0.134349</td>\n",
       "      <td>0.143719</td>\n",
       "      <td>6.163447</td>\n",
       "    </tr>\n",
       "    <tr>\n",
       "      <th>152</th>\n",
       "      <td>24.658451</td>\n",
       "      <td>70.699634</td>\n",
       "      <td>36.813797</td>\n",
       "      <td>61.512849</td>\n",
       "      <td>Pennsylvania</td>\n",
       "      <td>Bradford County, Pennsylvania</td>\n",
       "      <td>42015</td>\n",
       "      <td>14.6</td>\n",
       "      <td>85.4</td>\n",
       "      <td>96.85</td>\n",
       "      <td>0.55</td>\n",
       "      <td>0.45</td>\n",
       "      <td>10.60</td>\n",
       "      <td>6.5</td>\n",
       "      <td>11.5</td>\n",
       "      <td>5160201</td>\n",
       "      <td>15.7</td>\n",
       "      <td>5.1</td>\n",
       "      <td>0.096000</td>\n",
       "      <td>0.048956</td>\n",
       "      <td>0.047043</td>\n",
       "      <td>0.268766</td>\n",
       "      <td>0.134068</td>\n",
       "      <td>0.134698</td>\n",
       "      <td>0.373237</td>\n",
       "      <td>0.186576</td>\n",
       "      <td>0.186661</td>\n",
       "      <td>0.261997</td>\n",
       "      <td>0.122212</td>\n",
       "      <td>0.139785</td>\n",
       "      <td>6.712667</td>\n",
       "    </tr>\n",
       "    <tr>\n",
       "      <th>153</th>\n",
       "      <td>50.217053</td>\n",
       "      <td>46.819155</td>\n",
       "      <td>63.090343</td>\n",
       "      <td>35.795541</td>\n",
       "      <td>Pennsylvania</td>\n",
       "      <td>Lackawanna County, Pennsylvania</td>\n",
       "      <td>42069</td>\n",
       "      <td>12.5</td>\n",
       "      <td>87.5</td>\n",
       "      <td>91.45</td>\n",
       "      <td>1.35</td>\n",
       "      <td>1.95</td>\n",
       "      <td>8.30</td>\n",
       "      <td>5.6</td>\n",
       "      <td>14.1</td>\n",
       "      <td>8666241</td>\n",
       "      <td>23.7</td>\n",
       "      <td>9.0</td>\n",
       "      <td>0.113048</td>\n",
       "      <td>0.055507</td>\n",
       "      <td>0.057541</td>\n",
       "      <td>0.297003</td>\n",
       "      <td>0.149153</td>\n",
       "      <td>0.147850</td>\n",
       "      <td>0.347751</td>\n",
       "      <td>0.169513</td>\n",
       "      <td>0.178239</td>\n",
       "      <td>0.242198</td>\n",
       "      <td>0.102502</td>\n",
       "      <td>0.139695</td>\n",
       "      <td>6.937831</td>\n",
       "    </tr>\n",
       "    <tr>\n",
       "      <th>154</th>\n",
       "      <td>29.581000</td>\n",
       "      <td>67.329267</td>\n",
       "      <td>40.063774</td>\n",
       "      <td>58.095694</td>\n",
       "      <td>Pennsylvania</td>\n",
       "      <td>Cambria County, Pennsylvania</td>\n",
       "      <td>42021</td>\n",
       "      <td>12.4</td>\n",
       "      <td>87.6</td>\n",
       "      <td>93.70</td>\n",
       "      <td>0.55</td>\n",
       "      <td>3.35</td>\n",
       "      <td>10.05</td>\n",
       "      <td>6.8</td>\n",
       "      <td>15.6</td>\n",
       "      <td>4476405</td>\n",
       "      <td>17.5</td>\n",
       "      <td>6.5</td>\n",
       "      <td>0.114567</td>\n",
       "      <td>0.059572</td>\n",
       "      <td>0.054995</td>\n",
       "      <td>0.262625</td>\n",
       "      <td>0.133809</td>\n",
       "      <td>0.128816</td>\n",
       "      <td>0.357793</td>\n",
       "      <td>0.178864</td>\n",
       "      <td>0.178929</td>\n",
       "      <td>0.265015</td>\n",
       "      <td>0.114493</td>\n",
       "      <td>0.150522</td>\n",
       "      <td>6.650929</td>\n",
       "    </tr>\n",
       "  </tbody>\n",
       "</table>\n",
       "</div>"
      ],
      "text/plain": [
       "     Democrats Target Year  Republicans Target Year  Democrats Previous Year  \\\n",
       "150              59.392554                37.411176                60.158844   \n",
       "151              28.607199                68.271853                38.857778   \n",
       "152              24.658451                70.699634                36.813797   \n",
       "153              50.217053                46.819155                63.090343   \n",
       "154              29.581000                67.329267                40.063774   \n",
       "\n",
       "     Republicans Previous Year         State                           County  \\\n",
       "150                  38.818969  Pennsylvania    Delaware County, Pennsylvania   \n",
       "151                  59.684362  Pennsylvania       Wayne County, Pennsylvania   \n",
       "152                  61.512849  Pennsylvania    Bradford County, Pennsylvania   \n",
       "153                  35.795541  Pennsylvania  Lackawanna County, Pennsylvania   \n",
       "154                  58.095694  Pennsylvania     Cambria County, Pennsylvania   \n",
       "\n",
       "      Fips  Less Than High School Diploma  At Least High School Diploma  \\\n",
       "150  42045                            9.5                          90.5   \n",
       "151  42127                           13.3                          86.7   \n",
       "152  42015                           14.6                          85.4   \n",
       "153  42069                           12.5                          87.5   \n",
       "154  42021                           12.4                          87.6   \n",
       "\n",
       "     White (Not Latino) Population  Asian American Population  \\\n",
       "150                          72.80                       4.50   \n",
       "151                          92.65                       0.65   \n",
       "152                          96.85                       0.55   \n",
       "153                          91.45                       1.35   \n",
       "154                          93.70                       0.55   \n",
       "\n",
       "     African American Population  \\\n",
       "150                        18.55   \n",
       "151                         2.55   \n",
       "152                         0.45   \n",
       "153                         1.95   \n",
       "154                         3.35   \n",
       "\n",
       "     Construction.extraction.maintenance.and.repair.occupations  \\\n",
       "150                                               7.75            \n",
       "151                                              13.75            \n",
       "152                                              10.60            \n",
       "153                                               8.30            \n",
       "154                                              10.05            \n",
       "\n",
       "     Average Unemployment %  Poverty Percent, All Ages  realGDP2016  \\\n",
       "150                     4.9                       10.8     29291807   \n",
       "151                     5.7                       13.7      1456959   \n",
       "152                     6.5                       11.5      5160201   \n",
       "153                     5.6                       14.1      8666241   \n",
       "154                     6.8                       15.6      4476405   \n",
       "\n",
       "     At Least Bachelors's Degree  Graduate Degree  1824tot_per  1824M_per  \\\n",
       "150                         34.7             14.5     0.130446   0.065478   \n",
       "151                         17.9              7.3     0.086419   0.047789   \n",
       "152                         15.7              5.1     0.096000   0.048956   \n",
       "153                         23.7              9.0     0.113048   0.055507   \n",
       "154                         17.5              6.5     0.114567   0.059572   \n",
       "\n",
       "     1824F_per  2544tot_per  2544M_per  2544F_per  4564tot_per  4564M_per  \\\n",
       "150   0.064967     0.316355   0.154363   0.161992     0.352134   0.167976   \n",
       "151   0.038630     0.262029   0.153723   0.108306     0.373482   0.195266   \n",
       "152   0.047043     0.268766   0.134068   0.134698     0.373237   0.186576   \n",
       "153   0.057541     0.297003   0.149153   0.147850     0.347751   0.169513   \n",
       "154   0.054995     0.262625   0.133809   0.128816     0.357793   0.178864   \n",
       "\n",
       "     4564F_per  65tot_per   65M_per   65F_per   log_gdp  \n",
       "150   0.184158   0.201066  0.084142  0.116924  7.466746  \n",
       "151   0.178217   0.278069  0.134349  0.143719  6.163447  \n",
       "152   0.186661   0.261997  0.122212  0.139785  6.712667  \n",
       "153   0.178239   0.242198  0.102502  0.139695  6.937831  \n",
       "154   0.178929   0.265015  0.114493  0.150522  6.650929  "
      ]
     },
     "execution_count": 135,
     "metadata": {},
     "output_type": "execute_result"
    }
   ],
   "source": [
    "# Now northeast states\n",
    "northeast = [\"North Carolina\",\"Pennsylvania\"]\n",
    "df_northeast = df[df.State.isin(northeast)]\n",
    "df_northeast.head()"
   ]
  },
  {
   "cell_type": "code",
   "execution_count": 136,
   "metadata": {},
   "outputs": [],
   "source": [
    "df_features_northeast = df_northeast[['Democrats Previous Year', 'Republicans Previous Year','Less Than High School Diploma','At Least High School Diploma',\n",
    "                  'White (Not Latino) Population','Asian American Population',\n",
    "            'African American Population',\n",
    "           'Average Unemployment %','Poverty Percent, All Ages', 'log_gdp', \n",
    "                  \"At Least Bachelors's Degree\", 'Graduate Degree','1824tot_per'\n",
    "             ,'2544tot_per','4564tot_per','65tot_per']]\n",
    "x_train, x_test, y_train, y_test = train_test_split(df_features_northeast, df_northeast['Democrats Target Year'], \n",
    "                                                    test_size=0.2,shuffle=True)\n",
    "model_ne = LinearRegression()\n",
    "scores_northeast = cross_validate(model_ne,x_train,y_train,cv=5,\n",
    "                                  scoring=('r2', 'neg_mean_squared_error'),return_train_score=True) "
   ]
  },
  {
   "cell_type": "code",
   "execution_count": 137,
   "metadata": {},
   "outputs": [
    {
     "name": "stdout",
     "output_type": "stream",
     "text": [
      "Training R^2: [0.987843   0.98740106 0.98241085 0.9845215  0.98567023]\n",
      "\n",
      "Validation R^2: [0.95757406 0.95710713 0.98555374 0.98438746 0.97932162]\n"
     ]
    }
   ],
   "source": [
    "print_r2(scores_northeast)"
   ]
  },
  {
   "cell_type": "code",
   "execution_count": 138,
   "metadata": {},
   "outputs": [
    {
     "name": "stdout",
     "output_type": "stream",
     "text": [
      "Training negative MSE: [-2.19253094 -2.41786276 -2.59412067 -2.6787633  -2.53330953]\n",
      "\n",
      "Validation negative MSE: [-6.35611059 -4.22743055 -3.733761   -2.61172552 -3.39644687]\n"
     ]
    }
   ],
   "source": [
    "print_mse(scores_northeast)"
   ]
  },
  {
   "cell_type": "markdown",
   "metadata": {},
   "source": [
    "In general, it seems that subsetting by geographical location of states does not change the r^2 or the mse values very much. The model for the midwest subset did seem to drop in accuracy a little but it is difficult to see if these changes are statistically significant or not. This indicates that states in different geographical areas are not different enough to skew the accuracy of a model trained across many different regions. We can investigate how these geographical models preforms on data from 2020 to get further information here."
   ]
  },
  {
   "cell_type": "code",
   "execution_count": 139,
   "metadata": {},
   "outputs": [],
   "source": [
    "# now lets visualize the predictions against the true values\n",
    "# I will use the model on all the states (i.e. not the geographical subsets)\n",
    "\n",
    "model_5 = LinearRegression()\n",
    "y_pred = cross_val_predict(model_5, x_train_main, y_train_main, cv=5)\n"
   ]
  },
  {
   "cell_type": "code",
   "execution_count": 140,
   "metadata": {},
   "outputs": [],
   "source": [
    "#Running our model on all the states on the test set from that split\n",
    "model_4.fit(x_train_main,y_train_main)\n",
    "y_pred_test = model_4.predict(x_test_main)\n",
    "\n",
    "\n"
   ]
  },
  {
   "cell_type": "code",
   "execution_count": 141,
   "metadata": {},
   "outputs": [
    {
     "data": {
      "image/png": "[encoded data removed]",
      "text/plain": [
       "<Figure size 648x432 with 1 Axes>"
      ]
     },
     "metadata": {
      "needs_background": "light"
     },
     "output_type": "display_data"
    }
   ],
   "source": [
    "#Scatter plot for the test set\n",
    "diff = abs(y_test_main-y_pred_test)*5\n",
    "fig, ax = plt.subplots(figsize = (9,6))\n",
    "ax.scatter(y_test_main, y_pred_test, s = diff, c = diff)\n",
    "ax.plot([y_test_main.min(), y_test_main.max()], [y_test_main.min(), y_test_main.max()], 'k--', lw=2)\n",
    "ax.set_xlabel('Measured Democrat 2016 Vote Share')\n",
    "ax.set_ylabel('Predicted Democrat 2016 Vote Share')\n",
    "plt.show()"
   ]
  },
  {
   "cell_type": "code",
   "execution_count": 142,
   "metadata": {},
   "outputs": [
    {
     "data": {
      "image/png": "[encoded data removed]",
      "text/plain": [
       "<Figure size 720x504 with 1 Axes>"
      ]
     },
     "metadata": {
      "needs_background": "light"
     },
     "output_type": "display_data"
    }
   ],
   "source": [
    "#Scatter plot for cross validation predictions\n",
    "diff = abs(y_train_main-y_pred)*5\n",
    "fig, ax = plt.subplots(figsize = (10,7))\n",
    "ax.scatter(y_train_main, y_pred, s = diff, c = diff)\n",
    "ax.plot([y_train_main.min(), y_train_main.max()], [y_train_main.min(), y_train_main.max()], 'k--', lw=4)\n",
    "ax.set_xlabel('Measured Democrat 2016 Vote Share')\n",
    "ax.set_ylabel('Predicted Democrat 2016 Vote Share')\n",
    "plt.show()"
   ]
  },
  {
   "cell_type": "code",
   "execution_count": 143,
   "metadata": {},
   "outputs": [
    {
     "data": {
      "text/plain": [
       "Text(0, 0.5, 'Frequency')"
      ]
     },
     "execution_count": 143,
     "metadata": {},
     "output_type": "execute_result"
    },
    {
     "data": {
      "image/png": "[encoded data removed]",
      "text/plain": [
       "<Figure size 648x432 with 1 Axes>"
      ]
     },
     "metadata": {
      "needs_background": "light"
     },
     "output_type": "display_data"
    }
   ],
   "source": [
    "#Histogram of prediction errors for test set\n",
    "diff = y_test_main-y_pred_test\n",
    "fig, ax = plt.subplots(figsize = (9,6))\n",
    "counts,bins,patches = ax.hist(diff,bins = 70, histtype = 'bar', ec = 'black', alpha = 0.5)\n",
    "plt.title('Histogram of prediction errors')\n",
    "plt.xlabel('Actual - Predicted')\n",
    "plt.ylabel('Frequency')"
   ]
  },
  {
   "cell_type": "code",
   "execution_count": 144,
   "metadata": {},
   "outputs": [
    {
     "data": {
      "text/plain": [
       "Text(0, 0.5, 'Frequency')"
      ]
     },
     "execution_count": 144,
     "metadata": {},
     "output_type": "execute_result"
    },
    {
     "data": {
      "image/png": "[encoded data removed]",
      "text/plain": [
       "<Figure size 720x504 with 1 Axes>"
      ]
     },
     "metadata": {
      "needs_background": "light"
     },
     "output_type": "display_data"
    }
   ],
   "source": [
    "#Histogram of prediction errors for cross validation\n",
    "diff = y_train_main-y_pred\n",
    "fig, ax = plt.subplots(figsize = (10,7))\n",
    "counts,bins,patches = ax.hist(diff,bins = 70, histtype = 'bar', ec = 'black', alpha = 0.5)\n",
    "#ax.set_xticks(bins)\n",
    "#plt.xticks(rotation = 'vertical')\n",
    "plt.title('Histogram of prediction errors')\n",
    "plt.xlabel('Actual - Predicted')\n",
    "plt.ylabel('Frequency')"
   ]
  },
  {
   "cell_type": "code",
   "execution_count": 145,
   "metadata": {},
   "outputs": [
    {
     "data": {
      "text/plain": [
       "Text(0, 0.5, 'Frequency')"
      ]
     },
     "execution_count": 145,
     "metadata": {},
     "output_type": "execute_result"
    },
    {
     "data": {
      "image/png": "[encoded data removed]",
      "text/plain": [
       "<Figure size 720x504 with 1 Axes>"
      ]
     },
     "metadata": {
      "needs_background": "light"
     },
     "output_type": "display_data"
    }
   ],
   "source": [
    "diff_2 = [x for x in diff if (abs(x)) < 5]\n",
    "fig, ax = plt.subplots(figsize = (10,7))\n",
    "counts,bins,patches = ax.hist(diff_2,bins = 50, histtype = 'bar', ec = 'black', alpha = 0.5)\n",
    "#ax.set_xticks(bins)\n",
    "#plt.xticks(rotation = 'vertical')\n",
    "plt.title('Histogram of prediction errors')\n",
    "plt.xlabel('Prediction error')\n",
    "plt.ylabel('Frequency')"
   ]
  },
  {
   "cell_type": "code",
   "execution_count": 146,
   "metadata": {},
   "outputs": [
    {
     "name": "stdout",
     "output_type": "stream",
     "text": [
      "Confidence interval: [-4.062877561642019, 4.065726099409848]\n"
     ]
    }
   ],
   "source": [
    "#import statistics\n",
    "diff_sq = (y_train_main-y_pred)\n",
    "mean = np.mean(diff_sq)\n",
    "se = np.std(diff_sq)\n",
    "interval = 1.96*se\n",
    "lower_bound = mean - interval\n",
    "upper_bound = mean + interval\n",
    "print(\"Confidence interval: [\"+str(lower_bound)+\", \"+str(upper_bound)+\"]\")"
   ]
  },
  {
   "cell_type": "code",
   "execution_count": 149,
   "metadata": {},
   "outputs": [],
   "source": [
    "# Running our models from above on the test sets from above and \n",
    "# calculating the MSE so we have something to compare the \n",
    "# MSEs below on\n",
    "\n",
    "vote_preds = model_vote.predict(x_test2)\n",
    "mse_vote = mean_squared_error(y_test2,vote_preds)\n",
    "\n",
    "onlyvote_preds = model_onlyvote.predict(x_test3)\n",
    "mse_onlyvote = mean_squared_error(y_test3,onlyvote_preds)\n",
    "\n",
    "main_preds = model_4.predict(x_test_main)\n",
    "mse_main = mean_squared_error(y_test_main, main_preds)\n",
    "\n"
   ]
  },
  {
   "cell_type": "code",
   "execution_count": 150,
   "metadata": {},
   "outputs": [
    {
     "data": {
      "text/html": [
       "<div>\n",
       "<style scoped>\n",
       "    .dataframe tbody tr th:only-of-type {\n",
       "        vertical-align: middle;\n",
       "    }\n",
       "\n",
       "    .dataframe tbody tr th {\n",
       "        vertical-align: top;\n",
       "    }\n",
       "\n",
       "    .dataframe thead th {\n",
       "        text-align: right;\n",
       "    }\n",
       "</style>\n",
       "<table border=\"1\" class=\"dataframe\">\n",
       "  <thead>\n",
       "    <tr style=\"text-align: right;\">\n",
       "      <th></th>\n",
       "      <th>Less Than High School Diploma</th>\n",
       "      <th>At Least High School Diploma</th>\n",
       "      <th>White (Not Latino) Population</th>\n",
       "      <th>African American Population</th>\n",
       "      <th>Asian American Population</th>\n",
       "      <th>Average Unemployment %</th>\n",
       "      <th>Poverty Percent, All Ages</th>\n",
       "      <th>Graduate Degree</th>\n",
       "      <th>At Least Bachelors's Degree</th>\n",
       "      <th>1824tot_per</th>\n",
       "      <th>1824M_per</th>\n",
       "      <th>1824F_per</th>\n",
       "      <th>2544tot_per</th>\n",
       "      <th>2544M_per</th>\n",
       "      <th>2544F_per</th>\n",
       "      <th>4564tot_per</th>\n",
       "      <th>4564M_per</th>\n",
       "      <th>4564F_per</th>\n",
       "      <th>65tot_per</th>\n",
       "      <th>65M_per</th>\n",
       "      <th>65F_per</th>\n",
       "      <th>Republicans Previous Year</th>\n",
       "      <th>Democrats Previous Year</th>\n",
       "      <th>log_gdp</th>\n",
       "      <th>Geographic Area Name_x</th>\n",
       "      <th>id</th>\n",
       "      <th>Republicans Target Year</th>\n",
       "      <th>Democrats Target Year</th>\n",
       "    </tr>\n",
       "  </thead>\n",
       "  <tbody>\n",
       "    <tr>\n",
       "      <th>0</th>\n",
       "      <td>0.179969</td>\n",
       "      <td>0.314415</td>\n",
       "      <td>0.210177</td>\n",
       "      <td>0.010030</td>\n",
       "      <td>0.002226</td>\n",
       "      <td>12.7</td>\n",
       "      <td>42.8</td>\n",
       "      <td>0.053024</td>\n",
       "      <td>0.056851</td>\n",
       "      <td>0.124147</td>\n",
       "      <td>0.061416</td>\n",
       "      <td>0.062731</td>\n",
       "      <td>0.331707</td>\n",
       "      <td>0.174012</td>\n",
       "      <td>0.157695</td>\n",
       "      <td>0.328104</td>\n",
       "      <td>0.157943</td>\n",
       "      <td>0.170161</td>\n",
       "      <td>0.216042</td>\n",
       "      <td>0.097766</td>\n",
       "      <td>0.118276</td>\n",
       "      <td>0.285</td>\n",
       "      <td>0.654</td>\n",
       "      <td>6.399523</td>\n",
       "      <td>Apache County, Arizona</td>\n",
       "      <td>4001</td>\n",
       "      <td>0.327</td>\n",
       "      <td>0.661</td>\n",
       "    </tr>\n",
       "    <tr>\n",
       "      <th>1</th>\n",
       "      <td>0.123738</td>\n",
       "      <td>0.271272</td>\n",
       "      <td>0.859079</td>\n",
       "      <td>0.048943</td>\n",
       "      <td>0.022196</td>\n",
       "      <td>6.6</td>\n",
       "      <td>27.6</td>\n",
       "      <td>0.089437</td>\n",
       "      <td>0.135565</td>\n",
       "      <td>0.103124</td>\n",
       "      <td>0.057828</td>\n",
       "      <td>0.045296</td>\n",
       "      <td>0.300902</td>\n",
       "      <td>0.162114</td>\n",
       "      <td>0.138789</td>\n",
       "      <td>0.301701</td>\n",
       "      <td>0.146651</td>\n",
       "      <td>0.155050</td>\n",
       "      <td>0.294273</td>\n",
       "      <td>0.140396</td>\n",
       "      <td>0.153877</td>\n",
       "      <td>0.580</td>\n",
       "      <td>0.354</td>\n",
       "      <td>6.635056</td>\n",
       "      <td>Cochise County, Arizona</td>\n",
       "      <td>4003</td>\n",
       "      <td>0.582</td>\n",
       "      <td>0.399</td>\n",
       "    </tr>\n",
       "    <tr>\n",
       "      <th>2</th>\n",
       "      <td>0.058941</td>\n",
       "      <td>0.224030</td>\n",
       "      <td>0.638776</td>\n",
       "      <td>0.009507</td>\n",
       "      <td>0.019028</td>\n",
       "      <td>9.7</td>\n",
       "      <td>38.0</td>\n",
       "      <td>0.145664</td>\n",
       "      <td>0.178253</td>\n",
       "      <td>0.258198</td>\n",
       "      <td>0.117506</td>\n",
       "      <td>0.140692</td>\n",
       "      <td>0.314314</td>\n",
       "      <td>0.162779</td>\n",
       "      <td>0.151535</td>\n",
       "      <td>0.264822</td>\n",
       "      <td>0.129665</td>\n",
       "      <td>0.135157</td>\n",
       "      <td>0.162666</td>\n",
       "      <td>0.077498</td>\n",
       "      <td>0.085168</td>\n",
       "      <td>0.369</td>\n",
       "      <td>0.563</td>\n",
       "      <td>6.805918</td>\n",
       "      <td>Coconino County, Arizona</td>\n",
       "      <td>4005</td>\n",
       "      <td>0.370</td>\n",
       "      <td>0.610</td>\n",
       "    </tr>\n",
       "    <tr>\n",
       "      <th>3</th>\n",
       "      <td>0.121441</td>\n",
       "      <td>0.239276</td>\n",
       "      <td>0.790820</td>\n",
       "      <td>0.059332</td>\n",
       "      <td>0.042873</td>\n",
       "      <td>7.5</td>\n",
       "      <td>21.0</td>\n",
       "      <td>0.122930</td>\n",
       "      <td>0.201831</td>\n",
       "      <td>0.121160</td>\n",
       "      <td>0.062066</td>\n",
       "      <td>0.059094</td>\n",
       "      <td>0.361995</td>\n",
       "      <td>0.182963</td>\n",
       "      <td>0.179032</td>\n",
       "      <td>0.314009</td>\n",
       "      <td>0.153061</td>\n",
       "      <td>0.160948</td>\n",
       "      <td>0.202836</td>\n",
       "      <td>0.091442</td>\n",
       "      <td>0.111394</td>\n",
       "      <td>0.491</td>\n",
       "      <td>0.457</td>\n",
       "      <td>8.310231</td>\n",
       "      <td>Maricopa County, Arizona</td>\n",
       "      <td>4013</td>\n",
       "      <td>0.482</td>\n",
       "      <td>0.503</td>\n",
       "    </tr>\n",
       "    <tr>\n",
       "      <th>4</th>\n",
       "      <td>0.136021</td>\n",
       "      <td>0.347913</td>\n",
       "      <td>0.889599</td>\n",
       "      <td>0.007051</td>\n",
       "      <td>0.009063</td>\n",
       "      <td>9.1</td>\n",
       "      <td>29.3</td>\n",
       "      <td>0.048427</td>\n",
       "      <td>0.081868</td>\n",
       "      <td>0.071982</td>\n",
       "      <td>0.038310</td>\n",
       "      <td>0.033672</td>\n",
       "      <td>0.232595</td>\n",
       "      <td>0.123774</td>\n",
       "      <td>0.108821</td>\n",
       "      <td>0.322675</td>\n",
       "      <td>0.157243</td>\n",
       "      <td>0.165432</td>\n",
       "      <td>0.372748</td>\n",
       "      <td>0.185424</td>\n",
       "      <td>0.187324</td>\n",
       "      <td>0.737</td>\n",
       "      <td>0.222</td>\n",
       "      <td>6.684938</td>\n",
       "      <td>Mohave County, Arizona</td>\n",
       "      <td>4015</td>\n",
       "      <td>0.750</td>\n",
       "      <td>0.237</td>\n",
       "    </tr>\n",
       "  </tbody>\n",
       "</table>\n",
       "</div>"
      ],
      "text/plain": [
       "   Less Than High School Diploma  At Least High School Diploma  \\\n",
       "0                       0.179969                      0.314415   \n",
       "1                       0.123738                      0.271272   \n",
       "2                       0.058941                      0.224030   \n",
       "3                       0.121441                      0.239276   \n",
       "4                       0.136021                      0.347913   \n",
       "\n",
       "   White (Not Latino) Population  African American Population  \\\n",
       "0                       0.210177                     0.010030   \n",
       "1                       0.859079                     0.048943   \n",
       "2                       0.638776                     0.009507   \n",
       "3                       0.790820                     0.059332   \n",
       "4                       0.889599                     0.007051   \n",
       "\n",
       "   Asian American Population  Average Unemployment %  \\\n",
       "0                   0.002226                    12.7   \n",
       "1                   0.022196                     6.6   \n",
       "2                   0.019028                     9.7   \n",
       "3                   0.042873                     7.5   \n",
       "4                   0.009063                     9.1   \n",
       "\n",
       "   Poverty Percent, All Ages  Graduate Degree  At Least Bachelors's Degree  \\\n",
       "0                       42.8         0.053024                     0.056851   \n",
       "1                       27.6         0.089437                     0.135565   \n",
       "2                       38.0         0.145664                     0.178253   \n",
       "3                       21.0         0.122930                     0.201831   \n",
       "4                       29.3         0.048427                     0.081868   \n",
       "\n",
       "   1824tot_per  1824M_per  1824F_per  2544tot_per  2544M_per  2544F_per  \\\n",
       "0     0.124147   0.061416   0.062731     0.331707   0.174012   0.157695   \n",
       "1     0.103124   0.057828   0.045296     0.300902   0.162114   0.138789   \n",
       "2     0.258198   0.117506   0.140692     0.314314   0.162779   0.151535   \n",
       "3     0.121160   0.062066   0.059094     0.361995   0.182963   0.179032   \n",
       "4     0.071982   0.038310   0.033672     0.232595   0.123774   0.108821   \n",
       "\n",
       "   4564tot_per  4564M_per  4564F_per  65tot_per   65M_per   65F_per  \\\n",
       "0     0.328104   0.157943   0.170161   0.216042  0.097766  0.118276   \n",
       "1     0.301701   0.146651   0.155050   0.294273  0.140396  0.153877   \n",
       "2     0.264822   0.129665   0.135157   0.162666  0.077498  0.085168   \n",
       "3     0.314009   0.153061   0.160948   0.202836  0.091442  0.111394   \n",
       "4     0.322675   0.157243   0.165432   0.372748  0.185424  0.187324   \n",
       "\n",
       "   Republicans Previous Year  Democrats Previous Year   log_gdp  \\\n",
       "0                      0.285                    0.654  6.399523   \n",
       "1                      0.580                    0.354  6.635056   \n",
       "2                      0.369                    0.563  6.805918   \n",
       "3                      0.491                    0.457  8.310231   \n",
       "4                      0.737                    0.222  6.684938   \n",
       "\n",
       "     Geographic Area Name_x    id  Republicans Target Year  \\\n",
       "0    Apache County, Arizona  4001                    0.327   \n",
       "1   Cochise County, Arizona  4003                    0.582   \n",
       "2  Coconino County, Arizona  4005                    0.370   \n",
       "3  Maricopa County, Arizona  4013                    0.482   \n",
       "4    Mohave County, Arizona  4015                    0.750   \n",
       "\n",
       "   Democrats Target Year  \n",
       "0                  0.661  \n",
       "1                  0.399  \n",
       "2                  0.610  \n",
       "3                  0.503  \n",
       "4                  0.237  "
      ]
     },
     "execution_count": 150,
     "metadata": {},
     "output_type": "execute_result"
    }
   ],
   "source": [
    "# read in 2020 data\n",
    "df2020_small = pd.read_csv('data/exported_data2020small.csv')\n",
    "df2020_small.head()"
   ]
  },
  {
   "cell_type": "code",
   "execution_count": 151,
   "metadata": {},
   "outputs": [
    {
     "data": {
      "text/html": [
       "<div>\n",
       "<style scoped>\n",
       "    .dataframe tbody tr th:only-of-type {\n",
       "        vertical-align: middle;\n",
       "    }\n",
       "\n",
       "    .dataframe tbody tr th {\n",
       "        vertical-align: top;\n",
       "    }\n",
       "\n",
       "    .dataframe thead th {\n",
       "        text-align: right;\n",
       "    }\n",
       "</style>\n",
       "<table border=\"1\" class=\"dataframe\">\n",
       "  <thead>\n",
       "    <tr style=\"text-align: right;\">\n",
       "      <th></th>\n",
       "      <th>Less Than High School Diploma</th>\n",
       "      <th>At Least High School Diploma</th>\n",
       "      <th>White (Not Latino) Population</th>\n",
       "      <th>African American Population</th>\n",
       "      <th>Asian American Population</th>\n",
       "      <th>Average Unemployment %</th>\n",
       "      <th>Poverty Percent, All Ages</th>\n",
       "      <th>Graduate Degree</th>\n",
       "      <th>At Least Bachelors's Degree</th>\n",
       "      <th>1824tot_per</th>\n",
       "      <th>1824M_per</th>\n",
       "      <th>1824F_per</th>\n",
       "      <th>2544tot_per</th>\n",
       "      <th>2544M_per</th>\n",
       "      <th>2544F_per</th>\n",
       "      <th>4564tot_per</th>\n",
       "      <th>4564M_per</th>\n",
       "      <th>4564F_per</th>\n",
       "      <th>65tot_per</th>\n",
       "      <th>65M_per</th>\n",
       "      <th>65F_per</th>\n",
       "      <th>Republicans Previous Year</th>\n",
       "      <th>Democrats Previous Year</th>\n",
       "      <th>log_gdp</th>\n",
       "      <th>Geographic Area Name_x</th>\n",
       "      <th>id</th>\n",
       "      <th>Republicans Target Year</th>\n",
       "      <th>Democrats Target Year</th>\n",
       "    </tr>\n",
       "  </thead>\n",
       "  <tbody>\n",
       "    <tr>\n",
       "      <th>0</th>\n",
       "      <td>0.179969</td>\n",
       "      <td>0.314415</td>\n",
       "      <td>0.210177</td>\n",
       "      <td>0.010030</td>\n",
       "      <td>0.002226</td>\n",
       "      <td>12.7</td>\n",
       "      <td>42.8</td>\n",
       "      <td>0.053024</td>\n",
       "      <td>0.056851</td>\n",
       "      <td>0.124147</td>\n",
       "      <td>0.061416</td>\n",
       "      <td>0.062731</td>\n",
       "      <td>0.331707</td>\n",
       "      <td>0.174012</td>\n",
       "      <td>0.157695</td>\n",
       "      <td>0.328104</td>\n",
       "      <td>0.157943</td>\n",
       "      <td>0.170161</td>\n",
       "      <td>0.216042</td>\n",
       "      <td>0.097766</td>\n",
       "      <td>0.118276</td>\n",
       "      <td>28.5</td>\n",
       "      <td>65.4</td>\n",
       "      <td>6.399523</td>\n",
       "      <td>Apache County, Arizona</td>\n",
       "      <td>4001</td>\n",
       "      <td>32.7</td>\n",
       "      <td>66.1</td>\n",
       "    </tr>\n",
       "    <tr>\n",
       "      <th>1</th>\n",
       "      <td>0.123738</td>\n",
       "      <td>0.271272</td>\n",
       "      <td>0.859079</td>\n",
       "      <td>0.048943</td>\n",
       "      <td>0.022196</td>\n",
       "      <td>6.6</td>\n",
       "      <td>27.6</td>\n",
       "      <td>0.089437</td>\n",
       "      <td>0.135565</td>\n",
       "      <td>0.103124</td>\n",
       "      <td>0.057828</td>\n",
       "      <td>0.045296</td>\n",
       "      <td>0.300902</td>\n",
       "      <td>0.162114</td>\n",
       "      <td>0.138789</td>\n",
       "      <td>0.301701</td>\n",
       "      <td>0.146651</td>\n",
       "      <td>0.155050</td>\n",
       "      <td>0.294273</td>\n",
       "      <td>0.140396</td>\n",
       "      <td>0.153877</td>\n",
       "      <td>58.0</td>\n",
       "      <td>35.4</td>\n",
       "      <td>6.635056</td>\n",
       "      <td>Cochise County, Arizona</td>\n",
       "      <td>4003</td>\n",
       "      <td>58.2</td>\n",
       "      <td>39.9</td>\n",
       "    </tr>\n",
       "    <tr>\n",
       "      <th>2</th>\n",
       "      <td>0.058941</td>\n",
       "      <td>0.224030</td>\n",
       "      <td>0.638776</td>\n",
       "      <td>0.009507</td>\n",
       "      <td>0.019028</td>\n",
       "      <td>9.7</td>\n",
       "      <td>38.0</td>\n",
       "      <td>0.145664</td>\n",
       "      <td>0.178253</td>\n",
       "      <td>0.258198</td>\n",
       "      <td>0.117506</td>\n",
       "      <td>0.140692</td>\n",
       "      <td>0.314314</td>\n",
       "      <td>0.162779</td>\n",
       "      <td>0.151535</td>\n",
       "      <td>0.264822</td>\n",
       "      <td>0.129665</td>\n",
       "      <td>0.135157</td>\n",
       "      <td>0.162666</td>\n",
       "      <td>0.077498</td>\n",
       "      <td>0.085168</td>\n",
       "      <td>36.9</td>\n",
       "      <td>56.3</td>\n",
       "      <td>6.805918</td>\n",
       "      <td>Coconino County, Arizona</td>\n",
       "      <td>4005</td>\n",
       "      <td>37.0</td>\n",
       "      <td>61.0</td>\n",
       "    </tr>\n",
       "    <tr>\n",
       "      <th>3</th>\n",
       "      <td>0.121441</td>\n",
       "      <td>0.239276</td>\n",
       "      <td>0.790820</td>\n",
       "      <td>0.059332</td>\n",
       "      <td>0.042873</td>\n",
       "      <td>7.5</td>\n",
       "      <td>21.0</td>\n",
       "      <td>0.122930</td>\n",
       "      <td>0.201831</td>\n",
       "      <td>0.121160</td>\n",
       "      <td>0.062066</td>\n",
       "      <td>0.059094</td>\n",
       "      <td>0.361995</td>\n",
       "      <td>0.182963</td>\n",
       "      <td>0.179032</td>\n",
       "      <td>0.314009</td>\n",
       "      <td>0.153061</td>\n",
       "      <td>0.160948</td>\n",
       "      <td>0.202836</td>\n",
       "      <td>0.091442</td>\n",
       "      <td>0.111394</td>\n",
       "      <td>49.1</td>\n",
       "      <td>45.7</td>\n",
       "      <td>8.310231</td>\n",
       "      <td>Maricopa County, Arizona</td>\n",
       "      <td>4013</td>\n",
       "      <td>48.2</td>\n",
       "      <td>50.3</td>\n",
       "    </tr>\n",
       "    <tr>\n",
       "      <th>4</th>\n",
       "      <td>0.136021</td>\n",
       "      <td>0.347913</td>\n",
       "      <td>0.889599</td>\n",
       "      <td>0.007051</td>\n",
       "      <td>0.009063</td>\n",
       "      <td>9.1</td>\n",
       "      <td>29.3</td>\n",
       "      <td>0.048427</td>\n",
       "      <td>0.081868</td>\n",
       "      <td>0.071982</td>\n",
       "      <td>0.038310</td>\n",
       "      <td>0.033672</td>\n",
       "      <td>0.232595</td>\n",
       "      <td>0.123774</td>\n",
       "      <td>0.108821</td>\n",
       "      <td>0.322675</td>\n",
       "      <td>0.157243</td>\n",
       "      <td>0.165432</td>\n",
       "      <td>0.372748</td>\n",
       "      <td>0.185424</td>\n",
       "      <td>0.187324</td>\n",
       "      <td>73.7</td>\n",
       "      <td>22.2</td>\n",
       "      <td>6.684938</td>\n",
       "      <td>Mohave County, Arizona</td>\n",
       "      <td>4015</td>\n",
       "      <td>75.0</td>\n",
       "      <td>23.7</td>\n",
       "    </tr>\n",
       "  </tbody>\n",
       "</table>\n",
       "</div>"
      ],
      "text/plain": [
       "   Less Than High School Diploma  At Least High School Diploma  \\\n",
       "0                       0.179969                      0.314415   \n",
       "1                       0.123738                      0.271272   \n",
       "2                       0.058941                      0.224030   \n",
       "3                       0.121441                      0.239276   \n",
       "4                       0.136021                      0.347913   \n",
       "\n",
       "   White (Not Latino) Population  African American Population  \\\n",
       "0                       0.210177                     0.010030   \n",
       "1                       0.859079                     0.048943   \n",
       "2                       0.638776                     0.009507   \n",
       "3                       0.790820                     0.059332   \n",
       "4                       0.889599                     0.007051   \n",
       "\n",
       "   Asian American Population  Average Unemployment %  \\\n",
       "0                   0.002226                    12.7   \n",
       "1                   0.022196                     6.6   \n",
       "2                   0.019028                     9.7   \n",
       "3                   0.042873                     7.5   \n",
       "4                   0.009063                     9.1   \n",
       "\n",
       "   Poverty Percent, All Ages  Graduate Degree  At Least Bachelors's Degree  \\\n",
       "0                       42.8         0.053024                     0.056851   \n",
       "1                       27.6         0.089437                     0.135565   \n",
       "2                       38.0         0.145664                     0.178253   \n",
       "3                       21.0         0.122930                     0.201831   \n",
       "4                       29.3         0.048427                     0.081868   \n",
       "\n",
       "   1824tot_per  1824M_per  1824F_per  2544tot_per  2544M_per  2544F_per  \\\n",
       "0     0.124147   0.061416   0.062731     0.331707   0.174012   0.157695   \n",
       "1     0.103124   0.057828   0.045296     0.300902   0.162114   0.138789   \n",
       "2     0.258198   0.117506   0.140692     0.314314   0.162779   0.151535   \n",
       "3     0.121160   0.062066   0.059094     0.361995   0.182963   0.179032   \n",
       "4     0.071982   0.038310   0.033672     0.232595   0.123774   0.108821   \n",
       "\n",
       "   4564tot_per  4564M_per  4564F_per  65tot_per   65M_per   65F_per  \\\n",
       "0     0.328104   0.157943   0.170161   0.216042  0.097766  0.118276   \n",
       "1     0.301701   0.146651   0.155050   0.294273  0.140396  0.153877   \n",
       "2     0.264822   0.129665   0.135157   0.162666  0.077498  0.085168   \n",
       "3     0.314009   0.153061   0.160948   0.202836  0.091442  0.111394   \n",
       "4     0.322675   0.157243   0.165432   0.372748  0.185424  0.187324   \n",
       "\n",
       "   Republicans Previous Year  Democrats Previous Year   log_gdp  \\\n",
       "0                       28.5                     65.4  6.399523   \n",
       "1                       58.0                     35.4  6.635056   \n",
       "2                       36.9                     56.3  6.805918   \n",
       "3                       49.1                     45.7  8.310231   \n",
       "4                       73.7                     22.2  6.684938   \n",
       "\n",
       "     Geographic Area Name_x    id  Republicans Target Year  \\\n",
       "0    Apache County, Arizona  4001                     32.7   \n",
       "1   Cochise County, Arizona  4003                     58.2   \n",
       "2  Coconino County, Arizona  4005                     37.0   \n",
       "3  Maricopa County, Arizona  4013                     48.2   \n",
       "4    Mohave County, Arizona  4015                     75.0   \n",
       "\n",
       "   Democrats Target Year  \n",
       "0                   66.1  \n",
       "1                   39.9  \n",
       "2                   61.0  \n",
       "3                   50.3  \n",
       "4                   23.7  "
      ]
     },
     "execution_count": 151,
     "metadata": {},
     "output_type": "execute_result"
    }
   ],
   "source": [
    "#Transforming columns so they match scale of 2016 data\n",
    "df2020_small['Republicans Previous Year'] = df2020_small['Republicans Previous Year']*100\n",
    "df2020_small['Democrats Previous Year'] = df2020_small['Democrats Previous Year'] *100\n",
    "df2020_small['Republicans Target Year'] = df2020_small['Republicans Target Year']*100\n",
    "df2020_small['Democrats Target Year'] = df2020_small['Democrats Target Year']*100\n",
    "df2020_small.head()"
   ]
  },
  {
   "cell_type": "code",
   "execution_count": 152,
   "metadata": {},
   "outputs": [],
   "source": [
    "#Filling NaN values with the mean...investigate other approaches here\n",
    "df2020_small['White (Not Latino) Population'] = df2020_small['White (Not Latino) Population'].fillna(df2020_small['White (Not Latino) Population'].mean())\n",
    "\n",
    "df2020_small['African American Population'] =df2020_small['African American Population'].fillna(df2020_small['African American Population'].mean())\n",
    "\n",
    "df2020_small['Asian American Population'] = df2020_small['Asian American Population'].fillna(df2020_small['Asian American Population'].mean())\n"
   ]
  },
  {
   "cell_type": "code",
   "execution_count": 153,
   "metadata": {},
   "outputs": [],
   "source": [
    "#Defining set of features and target variable for the 2020 data to run our models on\n",
    "x_test2020 = df2020_small[['Less Than High School Diploma','At Least High School Diploma',\n",
    "                  'White (Not Latino) Population','Asian American Population',\n",
    "            'African American Population',\n",
    "           'Average Unemployment %','Poverty Percent, All Ages', 'log_gdp', \n",
    "                  \"At Least Bachelors's Degree\", 'Graduate Degree','1824tot_per','1824M_per',\n",
    "             '1824F_per','2544tot_per','2544M_per','2544F_per','4564tot_per','4564M_per','4564F_per',\n",
    "                  '65tot_per','65M_per','65F_per']]\n",
    "\n",
    "\n",
    "y_test2020 = df2020_small['Democrats Target Year']\n"
   ]
  },
  {
   "cell_type": "code",
   "execution_count": 154,
   "metadata": {},
   "outputs": [
    {
     "data": {
      "text/plain": [
       "Less Than High School Diploma    False\n",
       "At Least High School Diploma     False\n",
       "White (Not Latino) Population    False\n",
       "Asian American Population        False\n",
       "African American Population      False\n",
       "Average Unemployment %           False\n",
       "Poverty Percent, All Ages        False\n",
       "log_gdp                          False\n",
       "At Least Bachelors's Degree      False\n",
       "Graduate Degree                  False\n",
       "1824tot_per                      False\n",
       "1824M_per                        False\n",
       "1824F_per                        False\n",
       "2544tot_per                      False\n",
       "2544M_per                        False\n",
       "2544F_per                        False\n",
       "4564tot_per                      False\n",
       "4564M_per                        False\n",
       "4564F_per                        False\n",
       "65tot_per                        False\n",
       "65M_per                          False\n",
       "65F_per                          False\n",
       "dtype: bool"
      ]
     },
     "execution_count": 154,
     "metadata": {},
     "output_type": "execute_result"
    }
   ],
   "source": [
    "#Doubling checking for null values\n",
    "x_test2020.isnull().any()"
   ]
  },
  {
   "cell_type": "code",
   "execution_count": 155,
   "metadata": {},
   "outputs": [
    {
     "name": "stdout",
     "output_type": "stream",
     "text": [
      "Less Than High School Diploma    0.0\n",
      "At Least High School Diploma     0.0\n",
      "White (Not Latino) Population    0.0\n",
      "African American Population      0.0\n",
      "Asian American Population        0.0\n",
      "Average Unemployment %           0.0\n",
      "Poverty Percent, All Ages        0.0\n",
      "Graduate Degree                  0.0\n",
      "At Least Bachelors's Degree      0.0\n",
      "1824tot_per                      0.0\n",
      "1824M_per                        0.0\n",
      "1824F_per                        0.0\n",
      "2544tot_per                      0.0\n",
      "2544M_per                        0.0\n",
      "2544F_per                        0.0\n",
      "4564tot_per                      0.0\n",
      "4564M_per                        0.0\n",
      "4564F_per                        0.0\n",
      "65tot_per                        0.0\n",
      "65M_per                          0.0\n",
      "65F_per                          0.0\n",
      "Republicans Previous Year        0.0\n",
      "Democrats Previous Year          0.0\n",
      "log_gdp                          0.0\n",
      "Geographic Area Name_x           0.0\n",
      "id                               0.0\n",
      "Republicans Target Year          0.0\n",
      "Democrats Target Year            0.0\n",
      "dtype: float64\n"
     ]
    }
   ],
   "source": [
    "df_null_ratios = df2020_small.isnull().sum()/len(df2020_small)*100\n",
    "print(df_null_ratios)"
   ]
  },
  {
   "cell_type": "code",
   "execution_count": 156,
   "metadata": {},
   "outputs": [],
   "source": [
    "#Make predictions on the 2020 data using our baseline model trained with 2016 data\n",
    "baseline2020_preds = model_baseline.predict(x_test2020)\n"
   ]
  },
  {
   "cell_type": "code",
   "execution_count": 157,
   "metadata": {},
   "outputs": [
    {
     "data": {
      "text/plain": [
       "361.3252584711893"
      ]
     },
     "execution_count": 157,
     "metadata": {},
     "output_type": "execute_result"
    }
   ],
   "source": [
    "#Calculating MSE for these predictions\n",
    "errors = (baseline2020_preds - y_test2020)**2\n",
    "mse = np.mean(errors)\n",
    "mse"
   ]
  },
  {
   "cell_type": "code",
   "execution_count": 158,
   "metadata": {},
   "outputs": [
    {
     "data": {
      "text/plain": [
       "92.955043677078"
      ]
     },
     "execution_count": 158,
     "metadata": {},
     "output_type": "execute_result"
    }
   ],
   "source": [
    "# baseline mse from original model (2016 test data)\n",
    "mse_baseline"
   ]
  },
  {
   "cell_type": "code",
   "execution_count": 85,
   "metadata": {},
   "outputs": [],
   "source": [
    "#Add in previous year vote share to features\n",
    "x_test2020_vote = df2020_small[['Democrats Previous Year', 'Republicans Previous Year',\n",
    "                                'Less Than High School Diploma','At Least High School Diploma',\n",
    "                  'White (Not Latino) Population','Asian American Population',\n",
    "            'African American Population',\n",
    "           'Average Unemployment %','Poverty Percent, All Ages', 'log_gdp', \n",
    "                  \"At Least Bachelors's Degree\", 'Graduate Degree','1824tot_per','1824M_per',\n",
    "             '1824F_per','2544tot_per','2544M_per','2544F_per','4564tot_per','4564M_per','4564F_per',\n",
    "                  '65tot_per','65M_per','65F_per']]\n",
    "\n",
    "\n",
    "y_test2020_vote = df2020_small['Democrats Target Year']\n",
    "\n"
   ]
  },
  {
   "cell_type": "code",
   "execution_count": 86,
   "metadata": {},
   "outputs": [],
   "source": [
    "# Making predictions on the 2020 data using our vote model trained on 2016 data\n",
    "main2020_preds = model_vote.predict(x_test2020_vote)"
   ]
  },
  {
   "cell_type": "code",
   "execution_count": 87,
   "metadata": {},
   "outputs": [
    {
     "data": {
      "text/plain": [
       "14.371681423873454"
      ]
     },
     "execution_count": 87,
     "metadata": {},
     "output_type": "execute_result"
    }
   ],
   "source": [
    "#Calculating MSE for this \n",
    "errors3 = (main2020_preds - y_test2020_vote)**2\n",
    "mse3 = np.mean(errors3)\n",
    "mse3"
   ]
  },
  {
   "cell_type": "code",
   "execution_count": 160,
   "metadata": {},
   "outputs": [
    {
     "data": {
      "text/plain": [
       "4.664909896585424"
      ]
     },
     "execution_count": 160,
     "metadata": {},
     "output_type": "execute_result"
    }
   ],
   "source": [
    "# original mse from this model (2016 test data)\n",
    "mse_vote"
   ]
  },
  {
   "cell_type": "code",
   "execution_count": 88,
   "metadata": {},
   "outputs": [],
   "source": [
    "#Using only previous year vote share as features\n",
    "x_test_onlyvote = df2020_small[['Democrats Previous Year', 'Republicans Previous Year']]\n",
    "y_test2020_onlyvote = df2020_small['Democrats Target Year']\n",
    "\n"
   ]
  },
  {
   "cell_type": "code",
   "execution_count": 89,
   "metadata": {},
   "outputs": [],
   "source": [
    "# Making predictions on the 2020 data using our only vote model trained on 2016 data\n",
    "vote_only_preds = model_onlyvote.predict(x_test_onlyvote)\n"
   ]
  },
  {
   "cell_type": "code",
   "execution_count": 90,
   "metadata": {},
   "outputs": [
    {
     "data": {
      "text/plain": [
       "360.43288926078935"
      ]
     },
     "execution_count": 90,
     "metadata": {},
     "output_type": "execute_result"
    }
   ],
   "source": [
    "#Calculating MSE for this \n",
    "errors4 = (vote_only_preds - y_test2020_onlyvote)**2\n",
    "mse4 = np.mean(errors4)\n",
    "mse4"
   ]
  },
  {
   "cell_type": "code",
   "execution_count": 162,
   "metadata": {},
   "outputs": [
    {
     "data": {
      "text/plain": [
       "24.062695844178034"
      ]
     },
     "execution_count": 162,
     "metadata": {},
     "output_type": "execute_result"
    }
   ],
   "source": [
    "# original mse from this model (2016 test data)\n",
    "mse_onlyvote"
   ]
  },
  {
   "cell_type": "code",
   "execution_count": 91,
   "metadata": {},
   "outputs": [],
   "source": [
    "#Our main set of features\n",
    "x_test2020_main = df2020_small[['Democrats Previous Year', 'Republicans Previous Year',\n",
    "                                'Less Than High School Diploma','At Least High School Diploma',\n",
    "                  'White (Not Latino) Population','Asian American Population',\n",
    "            'African American Population',\n",
    "           'Average Unemployment %','Poverty Percent, All Ages', 'log_gdp', \n",
    "                  \"At Least Bachelors's Degree\", 'Graduate Degree','1824tot_per'\n",
    "             ,'2544tot_per','4564tot_per','65tot_per']]\n",
    "\n",
    "y_test2020_main = df2020_small['Democrats Target Year']"
   ]
  },
  {
   "cell_type": "code",
   "execution_count": 92,
   "metadata": {},
   "outputs": [],
   "source": [
    "# Making predictions on the 2020 data using our main model trained on 2016 data\n",
    "main2020_preds = model_4.predict(x_test2020_main)\n"
   ]
  },
  {
   "cell_type": "code",
   "execution_count": 94,
   "metadata": {},
   "outputs": [
    {
     "data": {
      "text/plain": [
       "19.09336927481841"
      ]
     },
     "execution_count": 94,
     "metadata": {},
     "output_type": "execute_result"
    }
   ],
   "source": [
    "#Calculating MSE for this\n",
    "errors5 = (main2020_preds - y_test2020_main)**2\n",
    "mse5 = np.mean(errors5)\n",
    "mse5"
   ]
  },
  {
   "cell_type": "code",
   "execution_count": 163,
   "metadata": {},
   "outputs": [
    {
     "data": {
      "text/plain": [
       "4.949245014507671"
      ]
     },
     "execution_count": 163,
     "metadata": {},
     "output_type": "execute_result"
    }
   ],
   "source": [
    "# original mse from this model (2016 test data)\n",
    "mse_main"
   ]
  },
  {
   "cell_type": "code",
   "execution_count": 283,
   "metadata": {},
   "outputs": [],
   "source": [
    "# Alexander - look at using different technique to impute missing data\n",
    "\n",
    "# Emily - clean all notebooks, look at making visualizations, investigate absentee data\n",
    "\n",
    "# Vaed - look for 2018 edu data\n",
    "\n",
    "\n",
    "# In general:\n",
    "\n",
    "# construct one model dropping the education, using the race data from the kaggle set, we'd have to retrain 2016\n",
    "# without education\n",
    "\n",
    "# explore absentee voting stuff\n",
    "\n",
    "# meeting tuesday @6:30\n",
    "\n"
   ]
  },
  {
   "cell_type": "code",
   "execution_count": 95,
   "metadata": {},
   "outputs": [],
   "source": [
    "# add in mse calculations for 2016 test set to see side by side "
   ]
  },
  {
   "cell_type": "code",
   "execution_count": null,
   "metadata": {},
   "outputs": [],
   "source": []
  },
  {
   "cell_type": "code",
   "execution_count": null,
   "metadata": {},
   "outputs": [],
   "source": []
  },
  {
   "cell_type": "code",
   "execution_count": null,
   "metadata": {},
   "outputs": [],
   "source": []
  }
 ],
 "metadata": {
  "kernelspec": {
   "display_name": "Python 3",
   "language": "python",
   "name": "python3"
  },
  "language_info": {
   "codemirror_mode": {
    "name": "ipython",
    "version": 3
   },
   "file_extension": ".py",
   "mimetype": "text/x-python",
   "name": "python",
   "nbconvert_exporter": "python",
   "pygments_lexer": "ipython3",
   "version": "3.8.3"
  }
 },
 "nbformat": 4,
 "nbformat_minor": 4
}
